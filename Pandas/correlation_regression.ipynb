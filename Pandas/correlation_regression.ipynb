{
 "cells": [
  {
   "cell_type": "markdown",
   "metadata": {},
   "source": [
    "# Correlation\n",
    "![examples of scatterplots with different correlations](img/correlations.png)\n",
    "\n",
    "Images are from [https://www.mathisfun.com](https://www.mathisfun.com)"
   ]
  },
  {
   "cell_type": "markdown",
   "metadata": {},
   "source": [
    "1. Based on the images above, what does the value of **correlation** tell us? What about the sign?\n",
    "   the closer to one it is, the closer the data is to the line of best fit. If it is negative close to -1 then it is close to the opposite slope of that graph"
   ]
  },
  {
   "cell_type": "markdown",
   "metadata": {},
   "source": [
    "2. Examine the scatterplot below. Why is the correlation 0, even though there's a clear relationship?\n",
    "   Because the line has a slope of 1 so the correlation is 0 even though a relationship is clear (quadratic)"
   ]
  },
  {
   "cell_type": "markdown",
   "metadata": {},
   "source": [
    "![scatterplot with quadratic relationship](img/quadratic.png)"
   ]
  },
  {
   "cell_type": "markdown",
   "metadata": {},
   "source": [
    "3. Why is it important to look at _both_ the correlation _and_ the scatterplot?\n",
    "   Because correlation tell us how close the data is to a central line, but scatterplot shows us how close they are (and how close each specific point is to the central line)"
   ]
  },
  {
   "cell_type": "markdown",
   "metadata": {},
   "source": [
    "4. How do you use `pandas` to calculate correlation? Look up documentation to figure out the correlation between bill length and bill depth for Gentoo penguins."
   ]
  },
  {
   "cell_type": "code",
   "execution_count": 3,
   "metadata": {},
   "outputs": [
    {
     "data": {
      "text/plain": [
       "-0.23505287035553257"
      ]
     },
     "execution_count": 3,
     "metadata": {},
     "output_type": "execute_result"
    }
   ],
   "source": [
    "import pandas as pd\n",
    "penguins = pd.read_csv(\"../Datasets/penguins.csv\") # Change the path\n",
    "penguins[\"bill_length_mm\"].corr(penguins[\"bill_depth_mm\"])"
   ]
  },
  {
   "cell_type": "markdown",
   "metadata": {},
   "source": [
    "# Regression"
   ]
  },
  {
   "cell_type": "markdown",
   "metadata": {},
   "source": [
    "1. Pictured below is a scatterplot and its **regression line**, also called **line of best fit.** The correlation of these two variables is `-0.1098`. Is the **regression line** a good representation of the relationship between these two variables? Why or why not?\n",
    "\n",
    "No, it doesnt demostrate that there is a quadratic relaitosnip and the values dip as they approach 0 and then as it becomes + again then the values rise"
   ]
  },
  {
   "cell_type": "markdown",
   "metadata": {},
   "source": [
    "![scatterplot with regression line](img/regression1.png)"
   ]
  },
  {
   "cell_type": "markdown",
   "metadata": {},
   "source": [
    "2. Pictured below is another scatterplot and regression line. The correlation of these two variables is `0.8982`. Is the regression line a good representation of the relationship between these two variables? Why or why not?\n",
    "\n",
    "this is a much better represenation bc the relationsip is direct"
   ]
  },
  {
   "cell_type": "markdown",
   "metadata": {},
   "source": [
    "![scatterplot with regression line](img/regression2.png)"
   ]
  },
  {
   "cell_type": "markdown",
   "metadata": {},
   "source": [
    "3. (_Reflect_) When is a regression line useful? When is it not?\n",
    "   good for direct relaitonships, not good for quadratic or cubic relationships"
   ]
  }
 ],
 "metadata": {
  "interpreter": {
   "hash": "aee8b7b246df8f9039afb4144a1f6fd8d2ca17a180786b69acc140d282b71a49"
  },
  "kernelspec": {
   "display_name": "Python 3.9.7 64-bit",
   "language": "python",
   "name": "python3"
  },
  "language_info": {
   "codemirror_mode": {
    "name": "ipython",
    "version": 3
   },
   "file_extension": ".py",
   "mimetype": "text/x-python",
   "name": "python",
   "nbconvert_exporter": "python",
   "pygments_lexer": "ipython3",
   "version": "3.10.1"
  },
  "orig_nbformat": 4
 },
 "nbformat": 4,
 "nbformat_minor": 2
}
