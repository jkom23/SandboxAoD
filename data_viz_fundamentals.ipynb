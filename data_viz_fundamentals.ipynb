{
 "cells": [
  {
   "cell_type": "markdown",
   "metadata": {},
   "source": [
    "# Visual Perception"
   ]
  },
  {
   "cell_type": "markdown",
   "metadata": {},
   "source": [
    "## Perception\n",
    "Read [this study by Christopher G. Healey](https://www.csc2.ncsu.edu/faculty/healey/PP/index.html). We will look at some of the experiments in class, but feel free to explore on your own as well.\n",
    "\n",
    "1. What is preattentive processing?\n",
    "   the ability for humans to quickly process information based on certain qualities. how humans can form conclusions before they even look at it consiously. we notice abberations from the norm\n",
    "2. What are some examples of preattentive visual features?\n",
    "   color, shape\n",
    "3. What happens to preattentive processing when there are multiple such features in the same image?\n",
    "   it becomes very hard to detect the \"hidden\" object; conjuction of these features makes detecting multiple abberations difficult. \n",
    "4. What is the theory of the feature hierarchy?\n",
    "   some features take presidence over others; they are more easily noticable\n",
    "   "
   ]
  },
  {
   "cell_type": "markdown",
   "metadata": {},
   "source": [
    "## Grouping\n",
    "Read sections 1.3.2 and 1.3.3 of [this text]().\n",
    "Then, skim this [Wikipedia article on grouping]().\n",
    "\n",
    "1. What are **gestalt** rules?\n",
    "   how the eyes perceive visual stimulus. Humans like to group close objects together and classify them as ONE OBJECT/or simple shapes. (proximity, color, closure, continuation, common fate, etc.)\n",
    "2. What do we mean by **perceptual distance**, and how might it be measured?\n",
    "   how we perceive how close objects are to each other. how we percieve how close/far objects are from each other. which features do these objects share. \n",
    "3. How might perceptual distance be used in a visualization?\n",
    "   if objects are close together, maybe we read them together as one shape/object"
   ]
  },
  {
   "cell_type": "markdown",
   "metadata": {},
   "source": [
    "## Seeing Color\n",
    "Watch this short [Youtube video](https://www.youtube.com/watch?v=l8_fZPHasdo) on how our eyes see color.\n",
    "\n",
    "1. What are the differences between rods and cones?\n",
    "   they are both part of our retina: rods see in low light but cones have 3 cell types that see Red, green and blue (one for each type of cone).\n",
    "   rod cells take over in low light, so we cant really see color in the dark\n",
    "2. What is the difference between **additive** color and **subtractive** color?\n",
    "3. additive color is when shades of light are used to make colors, when subtractive color is when white light reflects off objects. \n",
    "      1. Which color model is used for electronic media?\n",
    "4.    additive\n",
    "      1. Which color model is used for print media?\n",
    "      subtractive \n",
    "5. Why is it important to know which model we use for a visualization?\n",
    "   we use additive to create the print in the computer but when/if we print a graph it is subtractive "
   ]
  },
  {
   "cell_type": "markdown",
   "metadata": {},
   "source": [
    "## Using Color\n",
    "Read [this chapter](https://clauswilke.com/dataviz/color-basics.html) on how color can be used in a visualization.\n",
    "\n",
    "1. Describe the three different use cases of color that are mentioned in the chapter.\n",
    "   \n",
    "   -color can be used to distinguish distinct values/cases\n",
    "   -color can be used to show where something falls on a spectrum; represent values on a scale\n",
    "   -color can be used to highlight data points that we want the audience to look at"
   ]
  },
  {
   "cell_type": "markdown",
   "metadata": {},
   "source": [
    "## Visualization Fundamentals\n",
    "The basis of all data visualization is in the **mapping** of data (e.g. numbers) to visual features.  \n",
    "Read [this chapter](https://clauswilke.com/dataviz/aesthetic-mapping.html) to learn some vocabulary regarding data visualization.\n",
    "\n",
    "1. What is a **scale**? Give some examples of how they are used.\n",
    "   A scale is a mapping function that map values to other values, so maybe 1 to 4 represents white to black; color ramps\n",
    "   heat maps and yellow to purple\n",
    "2. What **scale** might be appropriate to map different penguin species?\n",
    "   maybe we map them to 3 shapes and use that as the datapoints\n",
    "3. What **scale** might be appropriate to map penguin bill length?\n",
    "   maybe we can map it to color, light green is smaller lenghts and deep blue is longer \n",
    "\n",
    "Skim through [these slides](https://www.cs171.org/2015/assets/slides/05-marks_channels.pdf) as well.\n",
    "\n",
    "1. What are **marks** and **channels**? Give some examples.\n",
    "Marks:\tbasic\tgeometric elements that\tdepict items and links\t\n",
    "• Channels:\tcontrol\tthe\tmarks’\tappearance\t\n",
    "– Magnitude\tfor\tordered\tdata\t\n",
    "– Indentify\tfor\tcategorical\tdata\t\n",
    "• Marks\tand\tchannels\tare\tbuilding\tblocks\tfor\tvisual\tencoding\t\t\n",
    "the mark is a colored point and the channel changes the points color based on the species of that penguin\n",
    "2. Why is it not a good idea to map a single variable to more than one **channel**?\n",
    "   it becomes too diffficult to group the datapoints/marks together when they are being modified by more than one channel; adds confusion\n",
    "3. Explain how **channels** can be used to define a **scale**.\n",
    "   We can order channels accoridng to some scale (maybe size of point based on bill lenght) and that can define a scale (from smallest point to largest point, ex)\n",
    "   scale maps marks to channels based on some variable"
   ]
  },
  {
   "cell_type": "markdown",
   "metadata": {},
   "source": [
    "## Accessibility\n",
    "**Accessible data visualization is better data visualization.**\n",
    "\n",
    "Skim through [this article by Sara Hendren](https://www.wired.com/2014/10/all-technology-is-assistive/).\n",
    "\n",
    "1. What does she mean by _all technology is assistive technology_? What examples does she use?\n",
    "   Technolegy is designed to help us as humans and improve our lives (mostly). the Eameses' ergonomic chair and their wood splits\n",
    "2. How might this pertain to data visualization?\n",
    "   We want our data visualizations to be legible and helpful to all people. \n",
    "\n",
    "Skim through [this article](https://webdesign.tutsplus.com/articles/accessibility-basics-designing-for-visual-impairment--cms-27634) as well.\n",
    "\n",
    "1. What are some of the outlined best practices?\n",
    "🔍 Enlarging the text size\n",
    "🎨 Customizing color contrasts\n",
    "👁‍🗨 Using screen readers (blindness)\n",
    "🎞 Subtitles or captions on videos\n",
    "📝 Alternative image text to describe images\n",
    "1. Why does the author say to avoid using color?\n",
    "use accesible color palettes\n",
    "colorblind people wont be able to understand the color distinctions for a legend, ie. \n",
    "1. What are some major takeaways from [these guidelines from the Consumer Financial Protection Bureau](https://cfpb.github.io/design-system/)?\n",
    "   -honest and public trust\n",
    "   -accesibility for all people\n",
    "   -make the aestetics reflect the true values of the data; dont like with stats and graphs\n",
    "   -use scientific and data driven design practices\n",
    "   -giving user control and allow them to make decisions for viewing\n",
    "   -end to end coherent user expierence\n"
   ]
  }
 ],
 "metadata": {
  "language_info": {
   "name": "python"
  },
  "orig_nbformat": 4
 },
 "nbformat": 4,
 "nbformat_minor": 2
}
