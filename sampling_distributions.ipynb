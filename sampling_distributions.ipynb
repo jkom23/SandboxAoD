{
 "cells": [
  {
   "cell_type": "code",
   "execution_count": null,
   "metadata": {},
   "outputs": [],
   "source": []
  },
  {
   "cell_type": "markdown",
   "metadata": {},
   "source": [
    "# Review"
   ]
  },
  {
   "cell_type": "markdown",
   "metadata": {},
   "source": [
    "1. You are writing an algorithm that has a 95% chance of giving you a correct answer. Your friend has the answer key and can validate whether the algorithm is correct or not. What is the probability that the algorithm gives a correct answer after:\n",
    "    1. running it once?\n",
    " 1. (0.95)\n",
    "    1. running it 5 times?\n",
    "2. 1- (0.95)^5\n",
    "    1. running it 200 times?\n",
    " 2. 1- (0.95)^200\n",
    "\n",
    "INDEPENDENCE MATTERS"
   ]
  },
  {
   "cell_type": "markdown",
   "metadata": {},
   "source": [
    "2. Let X = a random number within $[1-100]$ (flat distribution)\n",
    "   1. What is the sample space?\n",
    "3. Sample space is all 100 options if these are only integers, or all real numbers from 1-100 inclusive \n",
    "   1. What is the probability of getting a number within $(20,75]$?\n",
    "   2. 55/100 if its integers\n",
    "   3. 55/99 if its real numbers\n",
    "   "
   ]
  },
  {
   "cell_type": "markdown",
   "metadata": {},
   "source": [
    "3. Let X = outcome of rolling a 20-sided die twice.\n",
    "   1. What is the sample space? Represent this as a list of tuples.\n",
    "4. {1-1,1-2,1-3....20-1,20-2...20-20}\n",
    "   1. Write a function `p_d20_twice(e)` that takes a tuple and returns the probability of rolling that tuple.\n",
    "5. \n",
    "   1. Write a function `p_sum(n)` that returns the probability of the rolls adding up to `n`. Use `p_d20_twice` as a helper function."
   ]
  },
  {
   "cell_type": "code",
   "execution_count": 2,
   "metadata": {},
   "outputs": [
    {
     "data": {
      "text/plain": [
       "0.005"
      ]
     },
     "execution_count": 2,
     "metadata": {},
     "output_type": "execute_result"
    }
   ],
   "source": [
    "def p_d20_twice(e):\n",
    "    return(1/400)\n",
    "\n",
    "\n",
    "def p_sum(n):\n",
    "    total=0.0\n",
    "    for i in range (1,21):\n",
    "        for j in range (1,21):\n",
    "            if i+j ==n:\n",
    "                total+=p_d20_twice((i,j))\n",
    "    return total\n",
    "\n",
    "p_sum(3)\n",
    "    \n",
    "    \n",
    "    \n",
    "    "
   ]
  },
  {
   "cell_type": "markdown",
   "metadata": {},
   "source": [
    "# Penguins are Back\n",
    "Let's suppose that our `penguins` dataset contains accurate information about every single penguin on Earth. A team of alien researchers from planet Pengalien is interested in the average penguin bill length."
   ]
  },
  {
   "cell_type": "markdown",
   "metadata": {},
   "source": [
    "1. Fortunately for Earth inhabitants, penguin researchers have already amassed all the data they need. What is the average bill length of all penguins?"
   ]
  },
  {
   "cell_type": "code",
   "execution_count": 5,
   "metadata": {},
   "outputs": [
    {
     "name": "stdout",
     "output_type": "stream",
     "text": [
      "46.620000000000005\n"
     ]
    }
   ],
   "source": [
    "import pandas as pd\n",
    "import random\n",
    "from random import sample\n",
    "\n",
    "\n",
    "\n",
    "\n",
    "def randPenguins():\n",
    "    total=random.sample(list(penguins[\"bill_length_mm\"]),5)\n",
    "    average=sum(total)/5\n",
    "    print(average)\n",
    "\n",
    "randPenguins()\n",
    "\n",
    "\n",
    "\n",
    "\n",
    "\n",
    "    "
   ]
  },
  {
   "cell_type": "code",
   "execution_count": 4,
   "metadata": {},
   "outputs": [
    {
     "data": {
      "text/plain": [
       "43.9219298245614"
      ]
     },
     "execution_count": 4,
     "metadata": {},
     "output_type": "execute_result"
    }
   ],
   "source": [
    "penguins = pd.read_csv(\"Datasets/penguins.csv\")\n",
    "penguins[\"bill_length_mm\"].mean()"
   ]
  },
  {
   "cell_type": "markdown",
   "metadata": {},
   "source": [
    "2. Unfortunately for Pengaliens, they don't have the same wealth of penguin knowledge. Their research team is poorly funded, and they only have the resources to come down and extract 5 penguins at a time.\n",
    "   1. Write code to get a _sample_ of 5 penguins.\n",
    "   ##penguins.sample(5)\n",
    "   2. What is the average bill length of this sample?\n",
    "3. 43.9 mm\n",
    "   1. How close did the Pengaliens get to the actual average bill length?\n",
    "   \n",
    "   its generally pretty close (+-3mm)"
   ]
  },
  {
   "cell_type": "markdown",
   "metadata": {},
   "source": [
    "3. Fortunately for Pengaliens, their top engineers finally got approved for their tractor beam grant. This upgrade allows them to beam up _n_ penguins at a time.\n",
    "   1. Write a function `sample_mean(n)` that takes a sample of `n` penguins and returns the mean bill length of that sample.\n",
    "4. \n",
    "   1. Write a function `sample_means(N,n)` that returns a list containing the result of running `sample_mean(n)` `N` times."
   ]
  },
  {
   "cell_type": "code",
   "execution_count": 6,
   "metadata": {},
   "outputs": [
    {
     "name": "stdout",
     "output_type": "stream",
     "text": [
      "45.13333333333333\n",
      "[41.14, 43.46, 47.58, 42.6, 41.76, 47.839999999999996]\n"
     ]
    }
   ],
   "source": [
    "def sample_mean(n):\n",
    "    total=random.sample(list(penguins[\"bill_length_mm\"]),n)\n",
    "    average=sum(total)/n\n",
    "    return(average)\n",
    "\n",
    "print(sample_mean(6))\n",
    "\n",
    "def sample_means(N,n):\n",
    "    listN=[]\n",
    "    for i in range(N):\n",
    "        listN.append(sample_mean(n))\n",
    "    return listN\n",
    "\n",
    "print(sample_means(6,5))\n"
   ]
  },
  {
   "cell_type": "code",
   "execution_count": null,
   "metadata": {},
   "outputs": [],
   "source": [
    "\n",
    "\n"
   ]
  },
  {
   "cell_type": "markdown",
   "metadata": {},
   "source": [
    "# Sampling Distribution of Sample Means "
   ]
  },
  {
   "cell_type": "markdown",
   "metadata": {},
   "source": [
    "1. Use `seaborn` or `altair` to generate a histogram for `sample_means(10,5)`. This histogram is the **sampling distribution** of the *sample mean*. We're looking at $N=10$ samples of $n=5$ penguins each.\n",
    "   1. What happens to the sampling distribution as we increase `N`?\n",
    "2. a lot more trials so we have a higher value in each bucket\n",
    "   1. What happens to the sampling distribution as we increase `n`?\n",
    "3. A lot less varaiation as we sample from more penguins so our values are more standardized"
   ]
  },
  {
   "cell_type": "code",
   "execution_count": 7,
   "metadata": {},
   "outputs": [
    {
     "data": {
      "text/plain": [
       "array([[<AxesSubplot:title={'center':'0'}>]], dtype=object)"
      ]
     },
     "execution_count": 7,
     "metadata": {},
     "output_type": "execute_result"
    },
    {
     "data": {
      "image/png": "[encoded data removed]",
      "text/plain": [
       "<Figure size 432x288 with 1 Axes>"
      ]
     },
     "metadata": {
      "needs_background": "light"
     },
     "output_type": "display_data"
    }
   ],
   "source": [
    "import pandas as pd\n",
    "\n",
    "df=pd.DataFrame(sample_means(300,5))\n",
    "\n",
    "\n",
    "import matplotlib\n",
    "df.hist()"
   ]
  },
  {
   "cell_type": "markdown",
   "metadata": {},
   "source": [
    "2. Let X = bill length of a randomly selected penguin.\n",
    "   1. What is the expected value of X?  \n",
    "   _Hint: The sampling distribution can be interpreted as a probability distribution!_\n",
    "   2. How far off is the expected value from the actual mean bill length?\n",
    "   3. Does your answer to the previous question change if `N` or `n` is increased?"
   ]
  },
  {
   "cell_type": "markdown",
   "metadata": {},
   "source": [
    "3. Summarize how random variables can be used to estimate actual attributes of a population."
   ]
  },
  {
   "cell_type": "markdown",
   "metadata": {},
   "source": [
    "# Sampling Distribution of Sample Proportions\n",
    "Arithmetic means are not the only attribute of a population that can be sampled. We can also look at proportion; e.g. what % of all penguins are Gentoo?"
   ]
  },
  {
   "cell_type": "markdown",
   "metadata": {},
   "source": [
    "1. The Pengaliens are back at it again, but this time they want to examine Gentoo penguins.\n",
    "   1. What is the actual % of Gentoo penguins on Earth?\n",
    "2. \n",
    "   1. Write a function `sample_proportion(n)` that returns the % of Gentoo pengins from a sample of `n` penguins.\n",
    "   2. Write a function `sample_proportions(N,n)` that returns a list of the results of running `sample_proportion(n)` `N` times."
   ]
  },
  {
   "cell_type": "code",
   "execution_count": 3,
   "metadata": {},
   "outputs": [
    {
     "data": {
      "text/plain": [
       "0.35964912280701755"
      ]
     },
     "execution_count": 3,
     "metadata": {},
     "output_type": "execute_result"
    }
   ],
   "source": [
    "penguins = pd.read_csv(\"Datasets/penguins.csv\")\n",
    "len(penguins[penguins[\"species\"]==\"Gentoo\"].index)/len(penguins.index)"
   ]
  },
  {
   "cell_type": "code",
   "execution_count": 4,
   "metadata": {},
   "outputs": [
    {
     "data": {
      "text/plain": [
       "[0.8888888888888888,\n",
       " 0.4444444444444444,\n",
       " 0.5555555555555556,\n",
       " 0.2222222222222222,\n",
       " 0.2222222222222222,\n",
       " 0.5555555555555556,\n",
       " 0.3333333333333333,\n",
       " 0.4444444444444444,\n",
       " 0.2222222222222222,\n",
       " 0.3333333333333333,\n",
       " 0.5555555555555556,\n",
       " 0.3333333333333333,\n",
       " 0.2222222222222222,\n",
       " 0.3333333333333333]"
      ]
     },
     "execution_count": 4,
     "metadata": {},
     "output_type": "execute_result"
    }
   ],
   "source": [
    "\n",
    "\n",
    "def sample_proportion(n):\n",
    "    df=penguins.sample(n)\n",
    "    return(len(df[df[\"species\"]==\"Gentoo\"].index)/len(df.index))\n",
    "\n",
    "#sample_proportion(6)\n",
    "\n",
    "def sample_proportions(N,n):\n",
    "    listN=[]\n",
    "    for i in range(N):\n",
    "        listN.append(sample_proportion(n))\n",
    "    return listN\n",
    "\n",
    "sample_proportions(14,9)\n",
    "\n"
   ]
  },
  {
   "cell_type": "markdown",
   "metadata": {},
   "source": [
    "2. Similar to the **sampling distribution of sample means**, let X = the % of Gentoo penguins in our sample. Create a histogram to visualize the **sampling distribution of sample proportions**. Analyze the center of this distribution; how far is it from the actual percentage that you calculated earlier?"
   ]
  },
  {
   "cell_type": "code",
   "execution_count": 11,
   "metadata": {},
   "outputs": [
    {
     "data": {
      "text/plain": [
       "array([[<AxesSubplot:title={'center':'0'}>]], dtype=object)"
      ]
     },
     "execution_count": 11,
     "metadata": {},
     "output_type": "execute_result"
    },
    {
     "data": {
      "image/png": "[encoded data removed]",
      "text/plain": [
       "<Figure size 432x288 with 1 Axes>"
      ]
     },
     "metadata": {
      "needs_background": "light"
     },
     "output_type": "display_data"
    }
   ],
   "source": [
    "import pandas as pd\n",
    "\n",
    "df=pd.DataFrame(sample_proportions(3,300))\n",
    "\n",
    "\n",
    "import matplotlib\n",
    "df.hist()"
   ]
  },
  {
   "cell_type": "markdown",
   "metadata": {},
   "source": [
    "# Central Limit Theorem\n",
    "As you may have noticed, the more samples you take, the more symmetrical and non-skewed the histograms become. The **Central Limit Theorem** states that as you increase the sample size, the sampling distribution of those samples approaches a **normal distribution**. From this, we can infer that the expected value of the mean of the sampling distribution will approach the population parameter that we are looking for."
   ]
  },
  {
   "cell_type": "markdown",
   "metadata": {},
   "source": [
    "# Practice"
   ]
  },
  {
   "cell_type": "markdown",
   "metadata": {},
   "source": [
    "1. An entomologist is researching cicadas, and since billions of Brood X cicadas are coming this year, they have the perfect chance to get samples. Their first study consists of 100 samples of 10 cicadas each; the sampling distribution of the sample mean of cicada wingspan has a mean of 18cm and a standard deviation of 1cm.\n",
    "\n",
    "    a. Interpret these statistics. Would you be surprised to find a cicada with a wingspan of 18.5cm? What about 21cm?\n",
    "    Since the mean is 18, it is not suprising that we have a 18.5 as it is within 1 std\n",
    "    21 is a few std apart so not too likely (for 1000 tested cicadas, we would expect around 10 cicadas of 21cm wingspam).\n",
    "\n",
    "    b. What would happen to the standard deviation if 1000 samples were taken instead of 100?\n",
    "    this sampling distribution would look more like a normal distributions; same proportion of cidadas in each std; more TRUE/less anomolies\n",
    "\n",
    "    "
   ]
  },
  {
   "cell_type": "markdown",
   "metadata": {},
   "source": [
    "2.  A linguist conducts a survey at school to see how many students can speak more than one language. After a sample of 200 students, the linguist arrives at a sample proportion of 25%. How might information (such as the mean or standard deviation) about the sampling distribution of the sample proportion help the linguist determine the accuracy of the survey?\n",
    "\n",
    "if the standard deviation is closer to 50% after sampling many many students, then its an innacurate survey"
   ]
  },
  {
   "cell_type": "markdown",
   "metadata": {},
   "source": [
    "3.  A candy enthusiast has a particular dislike of sour candies. As a gift, their friend buys them a big assortment of candy, but 5% of the candy within this bag is sour. Describe what the sampling distribution of the sample proportion would look like after taking 1000 samples (center, variability, skew).\n",
    "   \n",
    "   mean of sampling distribution will be 5%, \n",
    "   bc of artificial cutoff , it skews left"
   ]
  }
 ],
 "metadata": {
  "interpreter": {
   "hash": "0ee631a2928a28200043e7e2ad3ea045f428bc48ee7c595499c9689100883def"
  },
  "kernelspec": {
   "display_name": "Python 3.10.2 64-bit",
   "language": "python",
   "name": "python3"
  },
  "language_info": {
   "codemirror_mode": {
    "name": "ipython",
    "version": 3
   },
   "file_extension": ".py",
   "mimetype": "text/x-python",
   "name": "python",
   "nbconvert_exporter": "python",
   "pygments_lexer": "ipython3",
   "version": "3.10.1"
  },
  "orig_nbformat": 4
 },
 "nbformat": 4,
 "nbformat_minor": 2
}
