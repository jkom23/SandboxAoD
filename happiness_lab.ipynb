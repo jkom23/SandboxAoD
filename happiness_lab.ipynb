{
  "cells": [
    {
      "cell_type": "code",
      "execution_count": 6,
      "metadata": {
        "collapsed": true,
        "execution": {
          "iopub.execute_input": "2022-05-03T15:19:21.366Z",
          "iopub.status.busy": "2022-05-03T15:19:21.354Z",
          "iopub.status.idle": "2022-05-03T15:19:21.388Z",
          "shell.execute_reply": "2022-05-03T15:19:21.412Z"
        },
        "jupyter": {
          "outputs_hidden": false,
          "source_hidden": false
        },
        "nteract": {
          "transient": {
            "deleting": false
          }
        }
      },
      "outputs": [],
      "source": [
        "import pandas as pd\n",
        "import altair as alt\n",
        "import seaborn as sns\n",
        "from vega_datasets import data\n",
        "\n",
        "happy = pd.read_csv(\"Datasets/2019.csv\")"
      ]
    },
    {
      "cell_type": "code",
      "execution_count": 8,
      "metadata": {
        "collapsed": true,
        "execution": {
          "iopub.execute_input": "2022-03-10T16:21:25.029Z",
          "iopub.status.busy": "2022-03-10T16:21:25.015Z",
          "iopub.status.idle": "2022-03-10T16:21:25.045Z",
          "shell.execute_reply": "2022-03-10T16:21:25.057Z"
        },
        "jupyter": {
          "outputs_hidden": false,
          "source_hidden": false
        },
        "nteract": {
          "transient": {
            "deleting": false
          }
        }
      },
      "outputs": [],
      "source": [
        "## Link to dataset: https://www.kaggle.com/unsdsn/world-happiness?select=2019.csv"
      ]
    },
    {
      "cell_type": "code",
      "execution_count": null,
      "metadata": {
        "collapsed": true,
        "jupyter": {
          "outputs_hidden": false,
          "source_hidden": false
        },
        "nteract": {
          "transient": {
            "deleting": false
          }
        }
      },
      "outputs": [],
      "source": [
        "## Scroll down all the way at the end for my comments :)"
      ]
    },
    {
      "cell_type": "code",
      "execution_count": 2,
      "metadata": {
        "collapsed": true,
        "execution": {
          "iopub.execute_input": "2022-05-03T15:19:22.437Z",
          "iopub.status.busy": "2022-05-03T15:19:22.418Z",
          "iopub.status.idle": "2022-05-03T15:19:22.467Z",
          "shell.execute_reply": "2022-05-03T15:19:22.504Z"
        },
        "jupyter": {
          "outputs_hidden": false,
          "source_hidden": false
        },
        "nteract": {
          "transient": {
            "deleting": false
          }
        }
      },
      "outputs": [
        {
          "data": {
            "text/html": [
              "<div>\n",
              "<style scoped>\n",
              "    .dataframe tbody tr th:only-of-type {\n",
              "        vertical-align: middle;\n",
              "    }\n",
              "\n",
              "    .dataframe tbody tr th {\n",
              "        vertical-align: top;\n",
              "    }\n",
              "\n",
              "    .dataframe thead th {\n",
              "        text-align: right;\n",
              "    }\n",
              "</style>\n",
              "<table border=\"1\" class=\"dataframe\">\n",
              "  <thead>\n",
              "    <tr style=\"text-align: right;\">\n",
              "      <th></th>\n",
              "      <th>Overall rank</th>\n",
              "      <th>Country or region</th>\n",
              "      <th>Score</th>\n",
              "      <th>GDP per capita</th>\n",
              "      <th>Social support</th>\n",
              "      <th>Healthy life expectancy</th>\n",
              "      <th>Freedom to make life choices</th>\n",
              "      <th>Generosity</th>\n",
              "      <th>Perceptions of corruption</th>\n",
              "    </tr>\n",
              "  </thead>\n",
              "  <tbody>\n",
              "    <tr>\n",
              "      <th>0</th>\n",
              "      <td>1</td>\n",
              "      <td>Finland</td>\n",
              "      <td>7.769</td>\n",
              "      <td>1.340</td>\n",
              "      <td>1.587</td>\n",
              "      <td>0.986</td>\n",
              "      <td>0.596</td>\n",
              "      <td>0.153</td>\n",
              "      <td>0.393</td>\n",
              "    </tr>\n",
              "    <tr>\n",
              "      <th>1</th>\n",
              "      <td>2</td>\n",
              "      <td>Denmark</td>\n",
              "      <td>7.600</td>\n",
              "      <td>1.383</td>\n",
              "      <td>1.573</td>\n",
              "      <td>0.996</td>\n",
              "      <td>0.592</td>\n",
              "      <td>0.252</td>\n",
              "      <td>0.410</td>\n",
              "    </tr>\n",
              "    <tr>\n",
              "      <th>2</th>\n",
              "      <td>3</td>\n",
              "      <td>Norway</td>\n",
              "      <td>7.554</td>\n",
              "      <td>1.488</td>\n",
              "      <td>1.582</td>\n",
              "      <td>1.028</td>\n",
              "      <td>0.603</td>\n",
              "      <td>0.271</td>\n",
              "      <td>0.341</td>\n",
              "    </tr>\n",
              "    <tr>\n",
              "      <th>3</th>\n",
              "      <td>4</td>\n",
              "      <td>Iceland</td>\n",
              "      <td>7.494</td>\n",
              "      <td>1.380</td>\n",
              "      <td>1.624</td>\n",
              "      <td>1.026</td>\n",
              "      <td>0.591</td>\n",
              "      <td>0.354</td>\n",
              "      <td>0.118</td>\n",
              "    </tr>\n",
              "    <tr>\n",
              "      <th>4</th>\n",
              "      <td>5</td>\n",
              "      <td>Netherlands</td>\n",
              "      <td>7.488</td>\n",
              "      <td>1.396</td>\n",
              "      <td>1.522</td>\n",
              "      <td>0.999</td>\n",
              "      <td>0.557</td>\n",
              "      <td>0.322</td>\n",
              "      <td>0.298</td>\n",
              "    </tr>\n",
              "  </tbody>\n",
              "</table>\n",
              "</div>"
            ],
            "text/plain": [
              "   Overall rank Country or region  Score  GDP per capita  Social support  \\\n",
              "0             1           Finland  7.769           1.340           1.587   \n",
              "1             2           Denmark  7.600           1.383           1.573   \n",
              "2             3            Norway  7.554           1.488           1.582   \n",
              "3             4           Iceland  7.494           1.380           1.624   \n",
              "4             5       Netherlands  7.488           1.396           1.522   \n",
              "\n",
              "   Healthy life expectancy  Freedom to make life choices  Generosity  \\\n",
              "0                    0.986                         0.596       0.153   \n",
              "1                    0.996                         0.592       0.252   \n",
              "2                    1.028                         0.603       0.271   \n",
              "3                    1.026                         0.591       0.354   \n",
              "4                    0.999                         0.557       0.322   \n",
              "\n",
              "   Perceptions of corruption  \n",
              "0                      0.393  \n",
              "1                      0.410  \n",
              "2                      0.341  \n",
              "3                      0.118  \n",
              "4                      0.298  "
            ]
          },
          "execution_count": 2,
          "metadata": {},
          "output_type": "execute_result"
        }
      ],
      "source": [
        "happy.head(5)"
      ]
    },
    {
      "cell_type": "code",
      "execution_count": 7,
      "metadata": {
        "collapsed": true,
        "execution": {
          "iopub.execute_input": "2022-05-03T15:19:26.110Z",
          "iopub.status.busy": "2022-05-03T15:19:26.092Z",
          "iopub.status.idle": "2022-05-03T15:19:26.440Z",
          "shell.execute_reply": "2022-05-03T15:19:26.570Z"
        },
        "jupyter": {
          "outputs_hidden": false,
          "source_hidden": false
        },
        "nteract": {
          "transient": {
            "deleting": false
          }
        }
      },
      "outputs": [
        {
          "data": {
            "text/html": [
              "\n",
              "<div id=\"altair-viz-b9317004ded94c2f918b22ae1dc1f9e3\"></div>\n",
              "<script type=\"text/javascript\">\n",
              "  var VEGA_DEBUG = (typeof VEGA_DEBUG == \"undefined\") ? {} : VEGA_DEBUG;\n",
              "  (function(spec, embedOpt){\n",
              "    let outputDiv = document.currentScript.previousElementSibling;\n",
              "    if (outputDiv.id !== \"altair-viz-b9317004ded94c2f918b22ae1dc1f9e3\") {\n",
              "      outputDiv = document.getElementById(\"altair-viz-b9317004ded94c2f918b22ae1dc1f9e3\");\n",
              "    }\n",
              "    const paths = {\n",
              "      \"vega\": \"https://cdn.jsdelivr.net/npm//vega@5?noext\",\n",
              "      \"vega-lib\": \"https://cdn.jsdelivr.net/npm//vega-lib?noext\",\n",
              "      \"vega-lite\": \"https://cdn.jsdelivr.net/npm//vega-lite@4.17.0?noext\",\n",
              "      \"vega-embed\": \"https://cdn.jsdelivr.net/npm//vega-embed@6?noext\",\n",
              "    };\n",
              "\n",
              "    function maybeLoadScript(lib, version) {\n",
              "      var key = `${lib.replace(\"-\", \"\")}_version`;\n",
              "      return (VEGA_DEBUG[key] == version) ?\n",
              "        Promise.resolve(paths[lib]) :\n",
              "        new Promise(function(resolve, reject) {\n",
              "          var s = document.createElement('script');\n",
              "          document.getElementsByTagName(\"head\")[0].appendChild(s);\n",
              "          s.async = true;\n",
              "          s.onload = () => {\n",
              "            VEGA_DEBUG[key] = version;\n",
              "            return resolve(paths[lib]);\n",
              "          };\n",
              "          s.onerror = () => reject(`Error loading script: ${paths[lib]}`);\n",
              "          s.src = paths[lib];\n",
              "        });\n",
              "    }\n",
              "\n",
              "    function showError(err) {\n",
              "      outputDiv.innerHTML = `<div class=\"error\" style=\"color:red;\">${err}</div>`;\n",
              "      throw err;\n",
              "    }\n",
              "\n",
              "    function displayChart(vegaEmbed) {\n",
              "      vegaEmbed(outputDiv, spec, embedOpt)\n",
              "        .catch(err => showError(`Javascript Error: ${err.message}<br>This usually means there's a typo in your chart specification. See the javascript console for the full traceback.`));\n",
              "    }\n",
              "\n",
              "    if(typeof define === \"function\" && define.amd) {\n",
              "      requirejs.config({paths});\n",
              "      require([\"vega-embed\"], displayChart, err => showError(`Error loading script: ${err.message}`));\n",
              "    } else {\n",
              "      maybeLoadScript(\"vega\", \"5\")\n",
              "        .then(() => maybeLoadScript(\"vega-lite\", \"4.17.0\"))\n",
              "        .then(() => maybeLoadScript(\"vega-embed\", \"6\"))\n",
              "        .catch(showError)\n",
              "        .then(() => displayChart(vegaEmbed));\n",
              "    }\n",
              "  })({\"config\": {\"view\": {\"continuousWidth\": 400, \"continuousHeight\": 300}}, \"layer\": [{\"mark\": {\"type\": \"geoshape\", \"fill\": \"lightgray\", \"stroke\": \"white\"}, \"height\": 500, \"projection\": {\"type\": \"naturalEarth1\"}, \"width\": 700}, {\"mark\": \"geoshape\", \"encoding\": {\"color\": {\"field\": \"Score\", \"type\": \"quantitative\"}}, \"height\": 700, \"projection\": {\"type\": \"naturalEarth1\"}, \"title\": \"Map of world's happiest countries\", \"transform\": [{\"lookup\": \"id\", \"from\": {\"data\": {\"name\": \"data-f39ae4248cdbbe41c47422f0d032a650\"}, \"key\": \"id\", \"fields\": [\"Score\"]}}], \"width\": 1000}], \"data\": {\"url\": \"https://cdn.jsdelivr.net/npm/vega-datasets@v1.29.0/data/world-110m.json\", \"format\": {\"feature\": \"countries\", \"type\": \"topojson\"}}, \"$schema\": \"https://vega.github.io/schema/vega-lite/v4.17.0.json\", \"datasets\": {\"data-f39ae4248cdbbe41c47422f0d032a650\": [{\"Overall rank\": 1, \"Country or region\": \"Finland\", \"Score\": 7.769, \"GDP per capita\": 1.34, \"Social support\": 1.587, \"Healthy life expectancy\": 0.986, \"Freedom to make life choices\": 0.596, \"Generosity\": 0.153, \"Perceptions of corruption\": 0.393}, {\"Overall rank\": 2, \"Country or region\": \"Denmark\", \"Score\": 7.6, \"GDP per capita\": 1.383, \"Social support\": 1.573, \"Healthy life expectancy\": 0.996, \"Freedom to make life choices\": 0.592, \"Generosity\": 0.252, \"Perceptions of corruption\": 0.41}, {\"Overall rank\": 3, \"Country or region\": \"Norway\", \"Score\": 7.554, \"GDP per capita\": 1.488, \"Social support\": 1.582, \"Healthy life expectancy\": 1.028, \"Freedom to make life choices\": 0.603, \"Generosity\": 0.271, \"Perceptions of corruption\": 0.341}, {\"Overall rank\": 4, \"Country or region\": \"Iceland\", \"Score\": 7.494, \"GDP per capita\": 1.38, \"Social support\": 1.624, \"Healthy life expectancy\": 1.026, \"Freedom to make life choices\": 0.591, \"Generosity\": 0.354, \"Perceptions of corruption\": 0.118}, {\"Overall rank\": 5, \"Country or region\": \"Netherlands\", \"Score\": 7.488, \"GDP per capita\": 1.396, \"Social support\": 1.522, \"Healthy life expectancy\": 0.999, \"Freedom to make life choices\": 0.557, \"Generosity\": 0.322, \"Perceptions of corruption\": 0.298}, {\"Overall rank\": 6, \"Country or region\": \"Switzerland\", \"Score\": 7.48, \"GDP per capita\": 1.452, \"Social support\": 1.526, \"Healthy life expectancy\": 1.052, \"Freedom to make life choices\": 0.572, \"Generosity\": 0.263, \"Perceptions of corruption\": 0.343}, {\"Overall rank\": 7, \"Country or region\": \"Sweden\", \"Score\": 7.343, \"GDP per capita\": 1.387, \"Social support\": 1.487, \"Healthy life expectancy\": 1.009, \"Freedom to make life choices\": 0.574, \"Generosity\": 0.267, \"Perceptions of corruption\": 0.373}, {\"Overall rank\": 8, \"Country or region\": \"New Zealand\", \"Score\": 7.307, \"GDP per capita\": 1.303, \"Social support\": 1.557, \"Healthy life expectancy\": 1.026, \"Freedom to make life choices\": 0.585, \"Generosity\": 0.33, \"Perceptions of corruption\": 0.38}, {\"Overall rank\": 9, \"Country or region\": \"Canada\", \"Score\": 7.278, \"GDP per capita\": 1.365, \"Social support\": 1.505, \"Healthy life expectancy\": 1.039, \"Freedom to make life choices\": 0.584, \"Generosity\": 0.285, \"Perceptions of corruption\": 0.308}, {\"Overall rank\": 10, \"Country or region\": \"Austria\", \"Score\": 7.246, \"GDP per capita\": 1.376, \"Social support\": 1.475, \"Healthy life expectancy\": 1.016, \"Freedom to make life choices\": 0.532, \"Generosity\": 0.244, \"Perceptions of corruption\": 0.226}, {\"Overall rank\": 11, \"Country or region\": \"Australia\", \"Score\": 7.228, \"GDP per capita\": 1.372, \"Social support\": 1.548, \"Healthy life expectancy\": 1.036, \"Freedom to make life choices\": 0.557, \"Generosity\": 0.332, \"Perceptions of corruption\": 0.29}, {\"Overall rank\": 12, \"Country or region\": \"Costa Rica\", \"Score\": 7.167, \"GDP per capita\": 1.034, \"Social support\": 1.441, \"Healthy life expectancy\": 0.963, \"Freedom to make life choices\": 0.558, \"Generosity\": 0.144, \"Perceptions of corruption\": 0.093}, {\"Overall rank\": 13, \"Country or region\": \"Israel\", \"Score\": 7.139, \"GDP per capita\": 1.276, \"Social support\": 1.455, \"Healthy life expectancy\": 1.029, \"Freedom to make life choices\": 0.371, \"Generosity\": 0.261, \"Perceptions of corruption\": 0.082}, {\"Overall rank\": 14, \"Country or region\": \"Luxembourg\", \"Score\": 7.09, \"GDP per capita\": 1.609, \"Social support\": 1.479, \"Healthy life expectancy\": 1.012, \"Freedom to make life choices\": 0.526, \"Generosity\": 0.194, \"Perceptions of corruption\": 0.316}, {\"Overall rank\": 15, \"Country or region\": \"United Kingdom\", \"Score\": 7.054, \"GDP per capita\": 1.333, \"Social support\": 1.538, \"Healthy life expectancy\": 0.996, \"Freedom to make life choices\": 0.45, \"Generosity\": 0.348, \"Perceptions of corruption\": 0.278}, {\"Overall rank\": 16, \"Country or region\": \"Ireland\", \"Score\": 7.021, \"GDP per capita\": 1.499, \"Social support\": 1.553, \"Healthy life expectancy\": 0.999, \"Freedom to make life choices\": 0.516, \"Generosity\": 0.298, \"Perceptions of corruption\": 0.31}, {\"Overall rank\": 17, \"Country or region\": \"Germany\", \"Score\": 6.985, \"GDP per capita\": 1.373, \"Social support\": 1.454, \"Healthy life expectancy\": 0.987, \"Freedom to make life choices\": 0.495, \"Generosity\": 0.261, \"Perceptions of corruption\": 0.265}, {\"Overall rank\": 18, \"Country or region\": \"Belgium\", \"Score\": 6.923, \"GDP per capita\": 1.356, \"Social support\": 1.504, \"Healthy life expectancy\": 0.986, \"Freedom to make life choices\": 0.473, \"Generosity\": 0.16, \"Perceptions of corruption\": 0.21}, {\"Overall rank\": 19, \"Country or region\": \"United States\", \"Score\": 6.892, \"GDP per capita\": 1.433, \"Social support\": 1.457, \"Healthy life expectancy\": 0.874, \"Freedom to make life choices\": 0.454, \"Generosity\": 0.28, \"Perceptions of corruption\": 0.128}, {\"Overall rank\": 20, \"Country or region\": \"Czech Republic\", \"Score\": 6.852, \"GDP per capita\": 1.269, \"Social support\": 1.487, \"Healthy life expectancy\": 0.92, \"Freedom to make life choices\": 0.457, \"Generosity\": 0.046, \"Perceptions of corruption\": 0.036}, {\"Overall rank\": 21, \"Country or region\": \"United Arab Emirates\", \"Score\": 6.825, \"GDP per capita\": 1.503, \"Social support\": 1.31, \"Healthy life expectancy\": 0.825, \"Freedom to make life choices\": 0.598, \"Generosity\": 0.262, \"Perceptions of corruption\": 0.182}, {\"Overall rank\": 22, \"Country or region\": \"Malta\", \"Score\": 6.726, \"GDP per capita\": 1.3, \"Social support\": 1.52, \"Healthy life expectancy\": 0.999, \"Freedom to make life choices\": 0.564, \"Generosity\": 0.375, \"Perceptions of corruption\": 0.151}, {\"Overall rank\": 23, \"Country or region\": \"Mexico\", \"Score\": 6.595, \"GDP per capita\": 1.07, \"Social support\": 1.323, \"Healthy life expectancy\": 0.861, \"Freedom to make life choices\": 0.433, \"Generosity\": 0.074, \"Perceptions of corruption\": 0.073}, {\"Overall rank\": 24, \"Country or region\": \"France\", \"Score\": 6.592, \"GDP per capita\": 1.324, \"Social support\": 1.472, \"Healthy life expectancy\": 1.045, \"Freedom to make life choices\": 0.436, \"Generosity\": 0.111, \"Perceptions of corruption\": 0.183}, {\"Overall rank\": 25, \"Country or region\": \"Taiwan\", \"Score\": 6.446, \"GDP per capita\": 1.368, \"Social support\": 1.43, \"Healthy life expectancy\": 0.914, \"Freedom to make life choices\": 0.351, \"Generosity\": 0.242, \"Perceptions of corruption\": 0.097}, {\"Overall rank\": 26, \"Country or region\": \"Chile\", \"Score\": 6.444, \"GDP per capita\": 1.159, \"Social support\": 1.369, \"Healthy life expectancy\": 0.92, \"Freedom to make life choices\": 0.357, \"Generosity\": 0.187, \"Perceptions of corruption\": 0.056}, {\"Overall rank\": 27, \"Country or region\": \"Guatemala\", \"Score\": 6.436, \"GDP per capita\": 0.8, \"Social support\": 1.269, \"Healthy life expectancy\": 0.746, \"Freedom to make life choices\": 0.535, \"Generosity\": 0.175, \"Perceptions of corruption\": 0.078}, {\"Overall rank\": 28, \"Country or region\": \"Saudi Arabia\", \"Score\": 6.375, \"GDP per capita\": 1.403, \"Social support\": 1.357, \"Healthy life expectancy\": 0.795, \"Freedom to make life choices\": 0.439, \"Generosity\": 0.08, \"Perceptions of corruption\": 0.132}, {\"Overall rank\": 29, \"Country or region\": \"Qatar\", \"Score\": 6.374, \"GDP per capita\": 1.684, \"Social support\": 1.313, \"Healthy life expectancy\": 0.871, \"Freedom to make life choices\": 0.555, \"Generosity\": 0.22, \"Perceptions of corruption\": 0.167}, {\"Overall rank\": 30, \"Country or region\": \"Spain\", \"Score\": 6.354, \"GDP per capita\": 1.286, \"Social support\": 1.484, \"Healthy life expectancy\": 1.062, \"Freedom to make life choices\": 0.362, \"Generosity\": 0.153, \"Perceptions of corruption\": 0.079}, {\"Overall rank\": 31, \"Country or region\": \"Panama\", \"Score\": 6.321, \"GDP per capita\": 1.149, \"Social support\": 1.442, \"Healthy life expectancy\": 0.91, \"Freedom to make life choices\": 0.516, \"Generosity\": 0.109, \"Perceptions of corruption\": 0.054}, {\"Overall rank\": 32, \"Country or region\": \"Brazil\", \"Score\": 6.3, \"GDP per capita\": 1.004, \"Social support\": 1.439, \"Healthy life expectancy\": 0.802, \"Freedom to make life choices\": 0.39, \"Generosity\": 0.099, \"Perceptions of corruption\": 0.086}, {\"Overall rank\": 33, \"Country or region\": \"Uruguay\", \"Score\": 6.293, \"GDP per capita\": 1.124, \"Social support\": 1.465, \"Healthy life expectancy\": 0.891, \"Freedom to make life choices\": 0.523, \"Generosity\": 0.127, \"Perceptions of corruption\": 0.15}, {\"Overall rank\": 34, \"Country or region\": \"Singapore\", \"Score\": 6.262, \"GDP per capita\": 1.572, \"Social support\": 1.463, \"Healthy life expectancy\": 1.141, \"Freedom to make life choices\": 0.556, \"Generosity\": 0.271, \"Perceptions of corruption\": 0.453}, {\"Overall rank\": 35, \"Country or region\": \"El Salvador\", \"Score\": 6.253, \"GDP per capita\": 0.794, \"Social support\": 1.242, \"Healthy life expectancy\": 0.789, \"Freedom to make life choices\": 0.43, \"Generosity\": 0.093, \"Perceptions of corruption\": 0.074}, {\"Overall rank\": 36, \"Country or region\": \"Italy\", \"Score\": 6.223, \"GDP per capita\": 1.294, \"Social support\": 1.488, \"Healthy life expectancy\": 1.039, \"Freedom to make life choices\": 0.231, \"Generosity\": 0.158, \"Perceptions of corruption\": 0.03}, {\"Overall rank\": 37, \"Country or region\": \"Bahrain\", \"Score\": 6.199, \"GDP per capita\": 1.362, \"Social support\": 1.368, \"Healthy life expectancy\": 0.871, \"Freedom to make life choices\": 0.536, \"Generosity\": 0.255, \"Perceptions of corruption\": 0.11}, {\"Overall rank\": 38, \"Country or region\": \"Slovakia\", \"Score\": 6.198, \"GDP per capita\": 1.246, \"Social support\": 1.504, \"Healthy life expectancy\": 0.881, \"Freedom to make life choices\": 0.334, \"Generosity\": 0.121, \"Perceptions of corruption\": 0.014}, {\"Overall rank\": 39, \"Country or region\": \"Trinidad & Tobago\", \"Score\": 6.192, \"GDP per capita\": 1.231, \"Social support\": 1.477, \"Healthy life expectancy\": 0.713, \"Freedom to make life choices\": 0.489, \"Generosity\": 0.185, \"Perceptions of corruption\": 0.016}, {\"Overall rank\": 40, \"Country or region\": \"Poland\", \"Score\": 6.182, \"GDP per capita\": 1.206, \"Social support\": 1.438, \"Healthy life expectancy\": 0.884, \"Freedom to make life choices\": 0.483, \"Generosity\": 0.117, \"Perceptions of corruption\": 0.05}, {\"Overall rank\": 41, \"Country or region\": \"Uzbekistan\", \"Score\": 6.174, \"GDP per capita\": 0.745, \"Social support\": 1.529, \"Healthy life expectancy\": 0.756, \"Freedom to make life choices\": 0.631, \"Generosity\": 0.322, \"Perceptions of corruption\": 0.24}, {\"Overall rank\": 42, \"Country or region\": \"Lithuania\", \"Score\": 6.149, \"GDP per capita\": 1.238, \"Social support\": 1.515, \"Healthy life expectancy\": 0.818, \"Freedom to make life choices\": 0.291, \"Generosity\": 0.043, \"Perceptions of corruption\": 0.042}, {\"Overall rank\": 43, \"Country or region\": \"Colombia\", \"Score\": 6.125, \"GDP per capita\": 0.985, \"Social support\": 1.41, \"Healthy life expectancy\": 0.841, \"Freedom to make life choices\": 0.47, \"Generosity\": 0.099, \"Perceptions of corruption\": 0.034}, {\"Overall rank\": 44, \"Country or region\": \"Slovenia\", \"Score\": 6.118, \"GDP per capita\": 1.258, \"Social support\": 1.523, \"Healthy life expectancy\": 0.953, \"Freedom to make life choices\": 0.564, \"Generosity\": 0.144, \"Perceptions of corruption\": 0.057}, {\"Overall rank\": 45, \"Country or region\": \"Nicaragua\", \"Score\": 6.105, \"GDP per capita\": 0.694, \"Social support\": 1.325, \"Healthy life expectancy\": 0.835, \"Freedom to make life choices\": 0.435, \"Generosity\": 0.2, \"Perceptions of corruption\": 0.127}, {\"Overall rank\": 46, \"Country or region\": \"Kosovo\", \"Score\": 6.1, \"GDP per capita\": 0.882, \"Social support\": 1.232, \"Healthy life expectancy\": 0.758, \"Freedom to make life choices\": 0.489, \"Generosity\": 0.262, \"Perceptions of corruption\": 0.006}, {\"Overall rank\": 47, \"Country or region\": \"Argentina\", \"Score\": 6.086, \"GDP per capita\": 1.092, \"Social support\": 1.432, \"Healthy life expectancy\": 0.881, \"Freedom to make life choices\": 0.471, \"Generosity\": 0.066, \"Perceptions of corruption\": 0.05}, {\"Overall rank\": 48, \"Country or region\": \"Romania\", \"Score\": 6.07, \"GDP per capita\": 1.162, \"Social support\": 1.232, \"Healthy life expectancy\": 0.825, \"Freedom to make life choices\": 0.462, \"Generosity\": 0.083, \"Perceptions of corruption\": 0.005}, {\"Overall rank\": 49, \"Country or region\": \"Cyprus\", \"Score\": 6.046, \"GDP per capita\": 1.263, \"Social support\": 1.223, \"Healthy life expectancy\": 1.042, \"Freedom to make life choices\": 0.406, \"Generosity\": 0.19, \"Perceptions of corruption\": 0.041}, {\"Overall rank\": 50, \"Country or region\": \"Ecuador\", \"Score\": 6.028, \"GDP per capita\": 0.912, \"Social support\": 1.312, \"Healthy life expectancy\": 0.868, \"Freedom to make life choices\": 0.498, \"Generosity\": 0.126, \"Perceptions of corruption\": 0.087}, {\"Overall rank\": 51, \"Country or region\": \"Kuwait\", \"Score\": 6.021, \"GDP per capita\": 1.5, \"Social support\": 1.319, \"Healthy life expectancy\": 0.808, \"Freedom to make life choices\": 0.493, \"Generosity\": 0.142, \"Perceptions of corruption\": 0.097}, {\"Overall rank\": 52, \"Country or region\": \"Thailand\", \"Score\": 6.008, \"GDP per capita\": 1.05, \"Social support\": 1.409, \"Healthy life expectancy\": 0.828, \"Freedom to make life choices\": 0.557, \"Generosity\": 0.359, \"Perceptions of corruption\": 0.028}, {\"Overall rank\": 53, \"Country or region\": \"Latvia\", \"Score\": 5.94, \"GDP per capita\": 1.187, \"Social support\": 1.465, \"Healthy life expectancy\": 0.812, \"Freedom to make life choices\": 0.264, \"Generosity\": 0.075, \"Perceptions of corruption\": 0.064}, {\"Overall rank\": 54, \"Country or region\": \"South Korea\", \"Score\": 5.895, \"GDP per capita\": 1.301, \"Social support\": 1.219, \"Healthy life expectancy\": 1.036, \"Freedom to make life choices\": 0.159, \"Generosity\": 0.175, \"Perceptions of corruption\": 0.056}, {\"Overall rank\": 55, \"Country or region\": \"Estonia\", \"Score\": 5.893, \"GDP per capita\": 1.237, \"Social support\": 1.528, \"Healthy life expectancy\": 0.874, \"Freedom to make life choices\": 0.495, \"Generosity\": 0.103, \"Perceptions of corruption\": 0.161}, {\"Overall rank\": 56, \"Country or region\": \"Jamaica\", \"Score\": 5.89, \"GDP per capita\": 0.831, \"Social support\": 1.478, \"Healthy life expectancy\": 0.831, \"Freedom to make life choices\": 0.49, \"Generosity\": 0.107, \"Perceptions of corruption\": 0.028}, {\"Overall rank\": 57, \"Country or region\": \"Mauritius\", \"Score\": 5.888, \"GDP per capita\": 1.12, \"Social support\": 1.402, \"Healthy life expectancy\": 0.798, \"Freedom to make life choices\": 0.498, \"Generosity\": 0.215, \"Perceptions of corruption\": 0.06}, {\"Overall rank\": 58, \"Country or region\": \"Japan\", \"Score\": 5.886, \"GDP per capita\": 1.327, \"Social support\": 1.419, \"Healthy life expectancy\": 1.088, \"Freedom to make life choices\": 0.445, \"Generosity\": 0.069, \"Perceptions of corruption\": 0.14}, {\"Overall rank\": 59, \"Country or region\": \"Honduras\", \"Score\": 5.86, \"GDP per capita\": 0.642, \"Social support\": 1.236, \"Healthy life expectancy\": 0.828, \"Freedom to make life choices\": 0.507, \"Generosity\": 0.246, \"Perceptions of corruption\": 0.078}, {\"Overall rank\": 60, \"Country or region\": \"Kazakhstan\", \"Score\": 5.809, \"GDP per capita\": 1.173, \"Social support\": 1.508, \"Healthy life expectancy\": 0.729, \"Freedom to make life choices\": 0.41, \"Generosity\": 0.146, \"Perceptions of corruption\": 0.096}, {\"Overall rank\": 61, \"Country or region\": \"Bolivia\", \"Score\": 5.779, \"GDP per capita\": 0.776, \"Social support\": 1.209, \"Healthy life expectancy\": 0.706, \"Freedom to make life choices\": 0.511, \"Generosity\": 0.137, \"Perceptions of corruption\": 0.064}, {\"Overall rank\": 62, \"Country or region\": \"Hungary\", \"Score\": 5.758, \"GDP per capita\": 1.201, \"Social support\": 1.41, \"Healthy life expectancy\": 0.828, \"Freedom to make life choices\": 0.199, \"Generosity\": 0.081, \"Perceptions of corruption\": 0.02}, {\"Overall rank\": 63, \"Country or region\": \"Paraguay\", \"Score\": 5.743, \"GDP per capita\": 0.855, \"Social support\": 1.475, \"Healthy life expectancy\": 0.777, \"Freedom to make life choices\": 0.514, \"Generosity\": 0.184, \"Perceptions of corruption\": 0.08}, {\"Overall rank\": 64, \"Country or region\": \"Northern Cyprus\", \"Score\": 5.718, \"GDP per capita\": 1.263, \"Social support\": 1.252, \"Healthy life expectancy\": 1.042, \"Freedom to make life choices\": 0.417, \"Generosity\": 0.191, \"Perceptions of corruption\": 0.162}, {\"Overall rank\": 65, \"Country or region\": \"Peru\", \"Score\": 5.697, \"GDP per capita\": 0.96, \"Social support\": 1.274, \"Healthy life expectancy\": 0.854, \"Freedom to make life choices\": 0.455, \"Generosity\": 0.083, \"Perceptions of corruption\": 0.027}, {\"Overall rank\": 66, \"Country or region\": \"Portugal\", \"Score\": 5.693, \"GDP per capita\": 1.221, \"Social support\": 1.431, \"Healthy life expectancy\": 0.999, \"Freedom to make life choices\": 0.508, \"Generosity\": 0.047, \"Perceptions of corruption\": 0.025}, {\"Overall rank\": 67, \"Country or region\": \"Pakistan\", \"Score\": 5.653, \"GDP per capita\": 0.677, \"Social support\": 0.886, \"Healthy life expectancy\": 0.535, \"Freedom to make life choices\": 0.313, \"Generosity\": 0.22, \"Perceptions of corruption\": 0.098}, {\"Overall rank\": 68, \"Country or region\": \"Russia\", \"Score\": 5.648, \"GDP per capita\": 1.183, \"Social support\": 1.452, \"Healthy life expectancy\": 0.726, \"Freedom to make life choices\": 0.334, \"Generosity\": 0.082, \"Perceptions of corruption\": 0.031}, {\"Overall rank\": 69, \"Country or region\": \"Philippines\", \"Score\": 5.631, \"GDP per capita\": 0.807, \"Social support\": 1.293, \"Healthy life expectancy\": 0.657, \"Freedom to make life choices\": 0.558, \"Generosity\": 0.117, \"Perceptions of corruption\": 0.107}, {\"Overall rank\": 70, \"Country or region\": \"Serbia\", \"Score\": 5.603, \"GDP per capita\": 1.004, \"Social support\": 1.383, \"Healthy life expectancy\": 0.854, \"Freedom to make life choices\": 0.282, \"Generosity\": 0.137, \"Perceptions of corruption\": 0.039}, {\"Overall rank\": 71, \"Country or region\": \"Moldova\", \"Score\": 5.529, \"GDP per capita\": 0.685, \"Social support\": 1.328, \"Healthy life expectancy\": 0.739, \"Freedom to make life choices\": 0.245, \"Generosity\": 0.181, \"Perceptions of corruption\": 0.0}, {\"Overall rank\": 72, \"Country or region\": \"Libya\", \"Score\": 5.525, \"GDP per capita\": 1.044, \"Social support\": 1.303, \"Healthy life expectancy\": 0.673, \"Freedom to make life choices\": 0.416, \"Generosity\": 0.133, \"Perceptions of corruption\": 0.152}, {\"Overall rank\": 73, \"Country or region\": \"Montenegro\", \"Score\": 5.523, \"GDP per capita\": 1.051, \"Social support\": 1.361, \"Healthy life expectancy\": 0.871, \"Freedom to make life choices\": 0.197, \"Generosity\": 0.142, \"Perceptions of corruption\": 0.08}, {\"Overall rank\": 74, \"Country or region\": \"Tajikistan\", \"Score\": 5.467, \"GDP per capita\": 0.493, \"Social support\": 1.098, \"Healthy life expectancy\": 0.718, \"Freedom to make life choices\": 0.389, \"Generosity\": 0.23, \"Perceptions of corruption\": 0.144}, {\"Overall rank\": 75, \"Country or region\": \"Croatia\", \"Score\": 5.432, \"GDP per capita\": 1.155, \"Social support\": 1.266, \"Healthy life expectancy\": 0.914, \"Freedom to make life choices\": 0.296, \"Generosity\": 0.119, \"Perceptions of corruption\": 0.022}, {\"Overall rank\": 76, \"Country or region\": \"Hong Kong\", \"Score\": 5.43, \"GDP per capita\": 1.438, \"Social support\": 1.277, \"Healthy life expectancy\": 1.122, \"Freedom to make life choices\": 0.44, \"Generosity\": 0.258, \"Perceptions of corruption\": 0.287}, {\"Overall rank\": 77, \"Country or region\": \"Dominican Republic\", \"Score\": 5.425, \"GDP per capita\": 1.015, \"Social support\": 1.401, \"Healthy life expectancy\": 0.779, \"Freedom to make life choices\": 0.497, \"Generosity\": 0.113, \"Perceptions of corruption\": 0.101}, {\"Overall rank\": 78, \"Country or region\": \"Bosnia and Herzegovina\", \"Score\": 5.386, \"GDP per capita\": 0.945, \"Social support\": 1.212, \"Healthy life expectancy\": 0.845, \"Freedom to make life choices\": 0.212, \"Generosity\": 0.263, \"Perceptions of corruption\": 0.006}, {\"Overall rank\": 79, \"Country or region\": \"Turkey\", \"Score\": 5.373, \"GDP per capita\": 1.183, \"Social support\": 1.36, \"Healthy life expectancy\": 0.808, \"Freedom to make life choices\": 0.195, \"Generosity\": 0.083, \"Perceptions of corruption\": 0.106}, {\"Overall rank\": 80, \"Country or region\": \"Malaysia\", \"Score\": 5.339, \"GDP per capita\": 1.221, \"Social support\": 1.171, \"Healthy life expectancy\": 0.828, \"Freedom to make life choices\": 0.508, \"Generosity\": 0.26, \"Perceptions of corruption\": 0.024}, {\"Overall rank\": 81, \"Country or region\": \"Belarus\", \"Score\": 5.323, \"GDP per capita\": 1.067, \"Social support\": 1.465, \"Healthy life expectancy\": 0.789, \"Freedom to make life choices\": 0.235, \"Generosity\": 0.094, \"Perceptions of corruption\": 0.142}, {\"Overall rank\": 82, \"Country or region\": \"Greece\", \"Score\": 5.287, \"GDP per capita\": 1.181, \"Social support\": 1.156, \"Healthy life expectancy\": 0.999, \"Freedom to make life choices\": 0.067, \"Generosity\": 0.0, \"Perceptions of corruption\": 0.034}, {\"Overall rank\": 83, \"Country or region\": \"Mongolia\", \"Score\": 5.285, \"GDP per capita\": 0.948, \"Social support\": 1.531, \"Healthy life expectancy\": 0.667, \"Freedom to make life choices\": 0.317, \"Generosity\": 0.235, \"Perceptions of corruption\": 0.038}, {\"Overall rank\": 84, \"Country or region\": \"North Macedonia\", \"Score\": 5.274, \"GDP per capita\": 0.983, \"Social support\": 1.294, \"Healthy life expectancy\": 0.838, \"Freedom to make life choices\": 0.345, \"Generosity\": 0.185, \"Perceptions of corruption\": 0.034}, {\"Overall rank\": 85, \"Country or region\": \"Nigeria\", \"Score\": 5.265, \"GDP per capita\": 0.696, \"Social support\": 1.111, \"Healthy life expectancy\": 0.245, \"Freedom to make life choices\": 0.426, \"Generosity\": 0.215, \"Perceptions of corruption\": 0.041}, {\"Overall rank\": 86, \"Country or region\": \"Kyrgyzstan\", \"Score\": 5.261, \"GDP per capita\": 0.551, \"Social support\": 1.438, \"Healthy life expectancy\": 0.723, \"Freedom to make life choices\": 0.508, \"Generosity\": 0.3, \"Perceptions of corruption\": 0.023}, {\"Overall rank\": 87, \"Country or region\": \"Turkmenistan\", \"Score\": 5.247, \"GDP per capita\": 1.052, \"Social support\": 1.538, \"Healthy life expectancy\": 0.657, \"Freedom to make life choices\": 0.394, \"Generosity\": 0.244, \"Perceptions of corruption\": 0.028}, {\"Overall rank\": 88, \"Country or region\": \"Algeria\", \"Score\": 5.211, \"GDP per capita\": 1.002, \"Social support\": 1.16, \"Healthy life expectancy\": 0.785, \"Freedom to make life choices\": 0.086, \"Generosity\": 0.073, \"Perceptions of corruption\": 0.114}, {\"Overall rank\": 89, \"Country or region\": \"Morocco\", \"Score\": 5.208, \"GDP per capita\": 0.801, \"Social support\": 0.782, \"Healthy life expectancy\": 0.782, \"Freedom to make life choices\": 0.418, \"Generosity\": 0.036, \"Perceptions of corruption\": 0.076}, {\"Overall rank\": 90, \"Country or region\": \"Azerbaijan\", \"Score\": 5.208, \"GDP per capita\": 1.043, \"Social support\": 1.147, \"Healthy life expectancy\": 0.769, \"Freedom to make life choices\": 0.351, \"Generosity\": 0.035, \"Perceptions of corruption\": 0.182}, {\"Overall rank\": 91, \"Country or region\": \"Lebanon\", \"Score\": 5.197, \"GDP per capita\": 0.987, \"Social support\": 1.224, \"Healthy life expectancy\": 0.815, \"Freedom to make life choices\": 0.216, \"Generosity\": 0.166, \"Perceptions of corruption\": 0.027}, {\"Overall rank\": 92, \"Country or region\": \"Indonesia\", \"Score\": 5.192, \"GDP per capita\": 0.931, \"Social support\": 1.203, \"Healthy life expectancy\": 0.66, \"Freedom to make life choices\": 0.491, \"Generosity\": 0.498, \"Perceptions of corruption\": 0.028}, {\"Overall rank\": 93, \"Country or region\": \"China\", \"Score\": 5.191, \"GDP per capita\": 1.029, \"Social support\": 1.125, \"Healthy life expectancy\": 0.893, \"Freedom to make life choices\": 0.521, \"Generosity\": 0.058, \"Perceptions of corruption\": 0.1}, {\"Overall rank\": 94, \"Country or region\": \"Vietnam\", \"Score\": 5.175, \"GDP per capita\": 0.741, \"Social support\": 1.346, \"Healthy life expectancy\": 0.851, \"Freedom to make life choices\": 0.543, \"Generosity\": 0.147, \"Perceptions of corruption\": 0.073}, {\"Overall rank\": 95, \"Country or region\": \"Bhutan\", \"Score\": 5.082, \"GDP per capita\": 0.813, \"Social support\": 1.321, \"Healthy life expectancy\": 0.604, \"Freedom to make life choices\": 0.457, \"Generosity\": 0.37, \"Perceptions of corruption\": 0.167}, {\"Overall rank\": 96, \"Country or region\": \"Cameroon\", \"Score\": 5.044, \"GDP per capita\": 0.549, \"Social support\": 0.91, \"Healthy life expectancy\": 0.331, \"Freedom to make life choices\": 0.381, \"Generosity\": 0.187, \"Perceptions of corruption\": 0.037}, {\"Overall rank\": 97, \"Country or region\": \"Bulgaria\", \"Score\": 5.011, \"GDP per capita\": 1.092, \"Social support\": 1.513, \"Healthy life expectancy\": 0.815, \"Freedom to make life choices\": 0.311, \"Generosity\": 0.081, \"Perceptions of corruption\": 0.004}, {\"Overall rank\": 98, \"Country or region\": \"Ghana\", \"Score\": 4.996, \"GDP per capita\": 0.611, \"Social support\": 0.868, \"Healthy life expectancy\": 0.486, \"Freedom to make life choices\": 0.381, \"Generosity\": 0.245, \"Perceptions of corruption\": 0.04}, {\"Overall rank\": 99, \"Country or region\": \"Ivory Coast\", \"Score\": 4.944, \"GDP per capita\": 0.569, \"Social support\": 0.808, \"Healthy life expectancy\": 0.232, \"Freedom to make life choices\": 0.352, \"Generosity\": 0.154, \"Perceptions of corruption\": 0.09}, {\"Overall rank\": 100, \"Country or region\": \"Nepal\", \"Score\": 4.913, \"GDP per capita\": 0.446, \"Social support\": 1.226, \"Healthy life expectancy\": 0.677, \"Freedom to make life choices\": 0.439, \"Generosity\": 0.285, \"Perceptions of corruption\": 0.089}, {\"Overall rank\": 101, \"Country or region\": \"Jordan\", \"Score\": 4.906, \"GDP per capita\": 0.837, \"Social support\": 1.225, \"Healthy life expectancy\": 0.815, \"Freedom to make life choices\": 0.383, \"Generosity\": 0.11, \"Perceptions of corruption\": 0.13}, {\"Overall rank\": 102, \"Country or region\": \"Benin\", \"Score\": 4.883, \"GDP per capita\": 0.393, \"Social support\": 0.437, \"Healthy life expectancy\": 0.397, \"Freedom to make life choices\": 0.349, \"Generosity\": 0.175, \"Perceptions of corruption\": 0.082}, {\"Overall rank\": 103, \"Country or region\": \"Congo (Brazzaville)\", \"Score\": 4.812, \"GDP per capita\": 0.673, \"Social support\": 0.799, \"Healthy life expectancy\": 0.508, \"Freedom to make life choices\": 0.372, \"Generosity\": 0.105, \"Perceptions of corruption\": 0.093}, {\"Overall rank\": 104, \"Country or region\": \"Gabon\", \"Score\": 4.799, \"GDP per capita\": 1.057, \"Social support\": 1.183, \"Healthy life expectancy\": 0.571, \"Freedom to make life choices\": 0.295, \"Generosity\": 0.043, \"Perceptions of corruption\": 0.055}, {\"Overall rank\": 105, \"Country or region\": \"Laos\", \"Score\": 4.796, \"GDP per capita\": 0.764, \"Social support\": 1.03, \"Healthy life expectancy\": 0.551, \"Freedom to make life choices\": 0.547, \"Generosity\": 0.266, \"Perceptions of corruption\": 0.164}, {\"Overall rank\": 106, \"Country or region\": \"South Africa\", \"Score\": 4.722, \"GDP per capita\": 0.96, \"Social support\": 1.351, \"Healthy life expectancy\": 0.469, \"Freedom to make life choices\": 0.389, \"Generosity\": 0.13, \"Perceptions of corruption\": 0.055}, {\"Overall rank\": 107, \"Country or region\": \"Albania\", \"Score\": 4.719, \"GDP per capita\": 0.947, \"Social support\": 0.848, \"Healthy life expectancy\": 0.874, \"Freedom to make life choices\": 0.383, \"Generosity\": 0.178, \"Perceptions of corruption\": 0.027}, {\"Overall rank\": 108, \"Country or region\": \"Venezuela\", \"Score\": 4.707, \"GDP per capita\": 0.96, \"Social support\": 1.427, \"Healthy life expectancy\": 0.805, \"Freedom to make life choices\": 0.154, \"Generosity\": 0.064, \"Perceptions of corruption\": 0.047}, {\"Overall rank\": 109, \"Country or region\": \"Cambodia\", \"Score\": 4.7, \"GDP per capita\": 0.574, \"Social support\": 1.122, \"Healthy life expectancy\": 0.637, \"Freedom to make life choices\": 0.609, \"Generosity\": 0.232, \"Perceptions of corruption\": 0.062}, {\"Overall rank\": 110, \"Country or region\": \"Palestinian Territories\", \"Score\": 4.696, \"GDP per capita\": 0.657, \"Social support\": 1.247, \"Healthy life expectancy\": 0.672, \"Freedom to make life choices\": 0.225, \"Generosity\": 0.103, \"Perceptions of corruption\": 0.066}, {\"Overall rank\": 111, \"Country or region\": \"Senegal\", \"Score\": 4.681, \"GDP per capita\": 0.45, \"Social support\": 1.134, \"Healthy life expectancy\": 0.571, \"Freedom to make life choices\": 0.292, \"Generosity\": 0.153, \"Perceptions of corruption\": 0.072}, {\"Overall rank\": 112, \"Country or region\": \"Somalia\", \"Score\": 4.668, \"GDP per capita\": 0.0, \"Social support\": 0.698, \"Healthy life expectancy\": 0.268, \"Freedom to make life choices\": 0.559, \"Generosity\": 0.243, \"Perceptions of corruption\": 0.27}, {\"Overall rank\": 113, \"Country or region\": \"Namibia\", \"Score\": 4.639, \"GDP per capita\": 0.879, \"Social support\": 1.313, \"Healthy life expectancy\": 0.477, \"Freedom to make life choices\": 0.401, \"Generosity\": 0.07, \"Perceptions of corruption\": 0.056}, {\"Overall rank\": 114, \"Country or region\": \"Niger\", \"Score\": 4.628, \"GDP per capita\": 0.138, \"Social support\": 0.774, \"Healthy life expectancy\": 0.366, \"Freedom to make life choices\": 0.318, \"Generosity\": 0.188, \"Perceptions of corruption\": 0.102}, {\"Overall rank\": 115, \"Country or region\": \"Burkina Faso\", \"Score\": 4.587, \"GDP per capita\": 0.331, \"Social support\": 1.056, \"Healthy life expectancy\": 0.38, \"Freedom to make life choices\": 0.255, \"Generosity\": 0.177, \"Perceptions of corruption\": 0.113}, {\"Overall rank\": 116, \"Country or region\": \"Armenia\", \"Score\": 4.559, \"GDP per capita\": 0.85, \"Social support\": 1.055, \"Healthy life expectancy\": 0.815, \"Freedom to make life choices\": 0.283, \"Generosity\": 0.095, \"Perceptions of corruption\": 0.064}, {\"Overall rank\": 117, \"Country or region\": \"Iran\", \"Score\": 4.548, \"GDP per capita\": 1.1, \"Social support\": 0.842, \"Healthy life expectancy\": 0.785, \"Freedom to make life choices\": 0.305, \"Generosity\": 0.27, \"Perceptions of corruption\": 0.125}, {\"Overall rank\": 118, \"Country or region\": \"Guinea\", \"Score\": 4.534, \"GDP per capita\": 0.38, \"Social support\": 0.829, \"Healthy life expectancy\": 0.375, \"Freedom to make life choices\": 0.332, \"Generosity\": 0.207, \"Perceptions of corruption\": 0.086}, {\"Overall rank\": 119, \"Country or region\": \"Georgia\", \"Score\": 4.519, \"GDP per capita\": 0.886, \"Social support\": 0.666, \"Healthy life expectancy\": 0.752, \"Freedom to make life choices\": 0.346, \"Generosity\": 0.043, \"Perceptions of corruption\": 0.164}, {\"Overall rank\": 120, \"Country or region\": \"Gambia\", \"Score\": 4.516, \"GDP per capita\": 0.308, \"Social support\": 0.939, \"Healthy life expectancy\": 0.428, \"Freedom to make life choices\": 0.382, \"Generosity\": 0.269, \"Perceptions of corruption\": 0.167}, {\"Overall rank\": 121, \"Country or region\": \"Kenya\", \"Score\": 4.509, \"GDP per capita\": 0.512, \"Social support\": 0.983, \"Healthy life expectancy\": 0.581, \"Freedom to make life choices\": 0.431, \"Generosity\": 0.372, \"Perceptions of corruption\": 0.053}, {\"Overall rank\": 122, \"Country or region\": \"Mauritania\", \"Score\": 4.49, \"GDP per capita\": 0.57, \"Social support\": 1.167, \"Healthy life expectancy\": 0.489, \"Freedom to make life choices\": 0.066, \"Generosity\": 0.106, \"Perceptions of corruption\": 0.088}, {\"Overall rank\": 123, \"Country or region\": \"Mozambique\", \"Score\": 4.466, \"GDP per capita\": 0.204, \"Social support\": 0.986, \"Healthy life expectancy\": 0.39, \"Freedom to make life choices\": 0.494, \"Generosity\": 0.197, \"Perceptions of corruption\": 0.138}, {\"Overall rank\": 124, \"Country or region\": \"Tunisia\", \"Score\": 4.461, \"GDP per capita\": 0.921, \"Social support\": 1.0, \"Healthy life expectancy\": 0.815, \"Freedom to make life choices\": 0.167, \"Generosity\": 0.059, \"Perceptions of corruption\": 0.055}, {\"Overall rank\": 125, \"Country or region\": \"Bangladesh\", \"Score\": 4.456, \"GDP per capita\": 0.562, \"Social support\": 0.928, \"Healthy life expectancy\": 0.723, \"Freedom to make life choices\": 0.527, \"Generosity\": 0.166, \"Perceptions of corruption\": 0.143}, {\"Overall rank\": 126, \"Country or region\": \"Iraq\", \"Score\": 4.437, \"GDP per capita\": 1.043, \"Social support\": 0.98, \"Healthy life expectancy\": 0.574, \"Freedom to make life choices\": 0.241, \"Generosity\": 0.148, \"Perceptions of corruption\": 0.089}, {\"Overall rank\": 127, \"Country or region\": \"Congo (Kinshasa)\", \"Score\": 4.418, \"GDP per capita\": 0.094, \"Social support\": 1.125, \"Healthy life expectancy\": 0.357, \"Freedom to make life choices\": 0.269, \"Generosity\": 0.212, \"Perceptions of corruption\": 0.053}, {\"Overall rank\": 128, \"Country or region\": \"Mali\", \"Score\": 4.39, \"GDP per capita\": 0.385, \"Social support\": 1.105, \"Healthy life expectancy\": 0.308, \"Freedom to make life choices\": 0.327, \"Generosity\": 0.153, \"Perceptions of corruption\": 0.052}, {\"Overall rank\": 129, \"Country or region\": \"Sierra Leone\", \"Score\": 4.374, \"GDP per capita\": 0.268, \"Social support\": 0.841, \"Healthy life expectancy\": 0.242, \"Freedom to make life choices\": 0.309, \"Generosity\": 0.252, \"Perceptions of corruption\": 0.045}, {\"Overall rank\": 130, \"Country or region\": \"Sri Lanka\", \"Score\": 4.366, \"GDP per capita\": 0.949, \"Social support\": 1.265, \"Healthy life expectancy\": 0.831, \"Freedom to make life choices\": 0.47, \"Generosity\": 0.244, \"Perceptions of corruption\": 0.047}, {\"Overall rank\": 131, \"Country or region\": \"Myanmar\", \"Score\": 4.36, \"GDP per capita\": 0.71, \"Social support\": 1.181, \"Healthy life expectancy\": 0.555, \"Freedom to make life choices\": 0.525, \"Generosity\": 0.566, \"Perceptions of corruption\": 0.172}, {\"Overall rank\": 132, \"Country or region\": \"Chad\", \"Score\": 4.35, \"GDP per capita\": 0.35, \"Social support\": 0.766, \"Healthy life expectancy\": 0.192, \"Freedom to make life choices\": 0.174, \"Generosity\": 0.198, \"Perceptions of corruption\": 0.078}, {\"Overall rank\": 133, \"Country or region\": \"Ukraine\", \"Score\": 4.332, \"GDP per capita\": 0.82, \"Social support\": 1.39, \"Healthy life expectancy\": 0.739, \"Freedom to make life choices\": 0.178, \"Generosity\": 0.187, \"Perceptions of corruption\": 0.01}, {\"Overall rank\": 134, \"Country or region\": \"Ethiopia\", \"Score\": 4.286, \"GDP per capita\": 0.336, \"Social support\": 1.033, \"Healthy life expectancy\": 0.532, \"Freedom to make life choices\": 0.344, \"Generosity\": 0.209, \"Perceptions of corruption\": 0.1}, {\"Overall rank\": 135, \"Country or region\": \"Swaziland\", \"Score\": 4.212, \"GDP per capita\": 0.811, \"Social support\": 1.149, \"Healthy life expectancy\": 0.0, \"Freedom to make life choices\": 0.313, \"Generosity\": 0.074, \"Perceptions of corruption\": 0.135}, {\"Overall rank\": 136, \"Country or region\": \"Uganda\", \"Score\": 4.189, \"GDP per capita\": 0.332, \"Social support\": 1.069, \"Healthy life expectancy\": 0.443, \"Freedom to make life choices\": 0.356, \"Generosity\": 0.252, \"Perceptions of corruption\": 0.06}, {\"Overall rank\": 137, \"Country or region\": \"Egypt\", \"Score\": 4.166, \"GDP per capita\": 0.913, \"Social support\": 1.039, \"Healthy life expectancy\": 0.644, \"Freedom to make life choices\": 0.241, \"Generosity\": 0.076, \"Perceptions of corruption\": 0.067}, {\"Overall rank\": 138, \"Country or region\": \"Zambia\", \"Score\": 4.107, \"GDP per capita\": 0.578, \"Social support\": 1.058, \"Healthy life expectancy\": 0.426, \"Freedom to make life choices\": 0.431, \"Generosity\": 0.247, \"Perceptions of corruption\": 0.087}, {\"Overall rank\": 139, \"Country or region\": \"Togo\", \"Score\": 4.085, \"GDP per capita\": 0.275, \"Social support\": 0.572, \"Healthy life expectancy\": 0.41, \"Freedom to make life choices\": 0.293, \"Generosity\": 0.177, \"Perceptions of corruption\": 0.085}, {\"Overall rank\": 140, \"Country or region\": \"India\", \"Score\": 4.015, \"GDP per capita\": 0.755, \"Social support\": 0.765, \"Healthy life expectancy\": 0.588, \"Freedom to make life choices\": 0.498, \"Generosity\": 0.2, \"Perceptions of corruption\": 0.085}, {\"Overall rank\": 141, \"Country or region\": \"Liberia\", \"Score\": 3.975, \"GDP per capita\": 0.073, \"Social support\": 0.922, \"Healthy life expectancy\": 0.443, \"Freedom to make life choices\": 0.37, \"Generosity\": 0.233, \"Perceptions of corruption\": 0.033}, {\"Overall rank\": 142, \"Country or region\": \"Comoros\", \"Score\": 3.973, \"GDP per capita\": 0.274, \"Social support\": 0.757, \"Healthy life expectancy\": 0.505, \"Freedom to make life choices\": 0.142, \"Generosity\": 0.275, \"Perceptions of corruption\": 0.078}, {\"Overall rank\": 143, \"Country or region\": \"Madagascar\", \"Score\": 3.933, \"GDP per capita\": 0.274, \"Social support\": 0.916, \"Healthy life expectancy\": 0.555, \"Freedom to make life choices\": 0.148, \"Generosity\": 0.169, \"Perceptions of corruption\": 0.041}, {\"Overall rank\": 144, \"Country or region\": \"Lesotho\", \"Score\": 3.802, \"GDP per capita\": 0.489, \"Social support\": 1.169, \"Healthy life expectancy\": 0.168, \"Freedom to make life choices\": 0.359, \"Generosity\": 0.107, \"Perceptions of corruption\": 0.093}, {\"Overall rank\": 145, \"Country or region\": \"Burundi\", \"Score\": 3.775, \"GDP per capita\": 0.046, \"Social support\": 0.447, \"Healthy life expectancy\": 0.38, \"Freedom to make life choices\": 0.22, \"Generosity\": 0.176, \"Perceptions of corruption\": 0.18}, {\"Overall rank\": 146, \"Country or region\": \"Zimbabwe\", \"Score\": 3.663, \"GDP per capita\": 0.366, \"Social support\": 1.114, \"Healthy life expectancy\": 0.433, \"Freedom to make life choices\": 0.361, \"Generosity\": 0.151, \"Perceptions of corruption\": 0.089}, {\"Overall rank\": 147, \"Country or region\": \"Haiti\", \"Score\": 3.597, \"GDP per capita\": 0.323, \"Social support\": 0.688, \"Healthy life expectancy\": 0.449, \"Freedom to make life choices\": 0.026, \"Generosity\": 0.419, \"Perceptions of corruption\": 0.11}, {\"Overall rank\": 148, \"Country or region\": \"Botswana\", \"Score\": 3.488, \"GDP per capita\": 1.041, \"Social support\": 1.145, \"Healthy life expectancy\": 0.538, \"Freedom to make life choices\": 0.455, \"Generosity\": 0.025, \"Perceptions of corruption\": 0.1}, {\"Overall rank\": 149, \"Country or region\": \"Syria\", \"Score\": 3.462, \"GDP per capita\": 0.619, \"Social support\": 0.378, \"Healthy life expectancy\": 0.44, \"Freedom to make life choices\": 0.013, \"Generosity\": 0.331, \"Perceptions of corruption\": 0.141}, {\"Overall rank\": 150, \"Country or region\": \"Malawi\", \"Score\": 3.41, \"GDP per capita\": 0.191, \"Social support\": 0.56, \"Healthy life expectancy\": 0.495, \"Freedom to make life choices\": 0.443, \"Generosity\": 0.218, \"Perceptions of corruption\": 0.089}, {\"Overall rank\": 151, \"Country or region\": \"Yemen\", \"Score\": 3.38, \"GDP per capita\": 0.287, \"Social support\": 1.163, \"Healthy life expectancy\": 0.463, \"Freedom to make life choices\": 0.143, \"Generosity\": 0.108, \"Perceptions of corruption\": 0.077}, {\"Overall rank\": 152, \"Country or region\": \"Rwanda\", \"Score\": 3.334, \"GDP per capita\": 0.359, \"Social support\": 0.711, \"Healthy life expectancy\": 0.614, \"Freedom to make life choices\": 0.555, \"Generosity\": 0.217, \"Perceptions of corruption\": 0.411}, {\"Overall rank\": 153, \"Country or region\": \"Tanzania\", \"Score\": 3.231, \"GDP per capita\": 0.476, \"Social support\": 0.885, \"Healthy life expectancy\": 0.499, \"Freedom to make life choices\": 0.417, \"Generosity\": 0.276, \"Perceptions of corruption\": 0.147}, {\"Overall rank\": 154, \"Country or region\": \"Afghanistan\", \"Score\": 3.203, \"GDP per capita\": 0.35, \"Social support\": 0.517, \"Healthy life expectancy\": 0.361, \"Freedom to make life choices\": 0.0, \"Generosity\": 0.158, \"Perceptions of corruption\": 0.025}, {\"Overall rank\": 155, \"Country or region\": \"Central African Republic\", \"Score\": 3.083, \"GDP per capita\": 0.026, \"Social support\": 0.0, \"Healthy life expectancy\": 0.105, \"Freedom to make life choices\": 0.225, \"Generosity\": 0.235, \"Perceptions of corruption\": 0.035}, {\"Overall rank\": 156, \"Country or region\": \"South Sudan\", \"Score\": 2.853, \"GDP per capita\": 0.306, \"Social support\": 0.575, \"Healthy life expectancy\": 0.295, \"Freedom to make life choices\": 0.01, \"Generosity\": 0.202, \"Perceptions of corruption\": 0.091}]}}, {\"mode\": \"vega-lite\"});\n",
              "</script>"
            ],
            "text/plain": [
              "alt.LayerChart(...)"
            ]
          },
          "execution_count": 7,
          "metadata": {},
          "output_type": "execute_result"
        }
      ],
      "source": [
        "countries = alt.topo_feature(data.world_110m.url, 'countries')\n",
        "\n",
        "map1 = alt.Chart(countries).mark_geoshape().encode(\n",
        "  color='Score:Q',\n",
        ").transform_lookup(\n",
        "    lookup='id',\n",
        "    from_=alt.LookupData(happy, 'id', ['Score'])\n",
        ").project(\n",
        "    \"naturalEarth1\"\n",
        ").properties(\n",
        "    width=1000,\n",
        "    height=700,\n",
        "    title=\"Map of world's happiest countries\"\n",
        ")\n",
        "\n",
        "map2 = alt.Chart(countries).mark_geoshape(\n",
        "    fill='lightgray',\n",
        "    stroke='white'\n",
        ").project(\n",
        "    \"naturalEarth1\"\n",
        ").properties(\n",
        "    width=700,\n",
        "    height=500\n",
        ")\n",
        "\n",
        "map3 = map2 + map1\n",
        "\n",
        "map3"
      ]
    },
    {
      "cell_type": "code",
      "execution_count": 8,
      "metadata": {
        "collapsed": true,
        "execution": {
          "iopub.execute_input": "2022-03-10T16:33:06.858Z",
          "iopub.status.busy": "2022-03-10T16:33:06.835Z",
          "iopub.status.idle": "2022-03-10T16:33:07.512Z",
          "shell.execute_reply": "2022-03-10T16:33:07.777Z"
        },
        "jupyter": {
          "outputs_hidden": false,
          "source_hidden": false
        },
        "nteract": {
          "transient": {
            "deleting": false
          }
        }
      },
      "outputs": [
        {
          "ename": "ValueError",
          "evalue": "Country encoding field is specified without a type; the type cannot be inferred because it does not match any column in the data.",
          "output_type": "error",
          "traceback": [
            "\u001b[1;31m---------------------------------------------------------------------------\u001b[0m",
            "\u001b[1;31mValueError\u001b[0m                                Traceback (most recent call last)",
            "\u001b[1;32m~\\AppData\\Local\\Temp/ipykernel_8064/3572935802.py\u001b[0m in \u001b[0;36m<module>\u001b[1;34m\u001b[0m\n\u001b[0;32m     26\u001b[0m \u001b[1;33m\u001b[0m\u001b[0m\n\u001b[0;32m     27\u001b[0m \u001b[0mGDPscatter\u001b[0m\u001b[1;33m\u001b[0m\u001b[1;33m\u001b[0m\u001b[0m\n\u001b[1;32m---> 28\u001b[1;33m \u001b[0mGDPscatter\u001b[0m\u001b[1;33m.\u001b[0m\u001b[0msave\u001b[0m\u001b[1;33m(\u001b[0m\u001b[1;34m'GDPscatter.html'\u001b[0m\u001b[1;33m)\u001b[0m\u001b[1;33m\u001b[0m\u001b[1;33m\u001b[0m\u001b[0m\n\u001b[0m",
            "\u001b[1;32mc:\\Users\\jackk\\AppData\\Local\\Programs\\Python\\Python310\\lib\\site-packages\\altair\\vegalite\\v4\\api.py\u001b[0m in \u001b[0;36msave\u001b[1;34m(self, fp, format, override_data_transformer, scale_factor, vegalite_version, vega_version, vegaembed_version, **kwargs)\u001b[0m\n\u001b[0;32m    486\u001b[0m         \u001b[1;32mif\u001b[0m \u001b[0moverride_data_transformer\u001b[0m\u001b[1;33m:\u001b[0m\u001b[1;33m\u001b[0m\u001b[1;33m\u001b[0m\u001b[0m\n\u001b[0;32m    487\u001b[0m             \u001b[1;32mwith\u001b[0m \u001b[0mdata_transformers\u001b[0m\u001b[1;33m.\u001b[0m\u001b[0mdisable_max_rows\u001b[0m\u001b[1;33m(\u001b[0m\u001b[1;33m)\u001b[0m\u001b[1;33m:\u001b[0m\u001b[1;33m\u001b[0m\u001b[1;33m\u001b[0m\u001b[0m\n\u001b[1;32m--> 488\u001b[1;33m                 \u001b[0mresult\u001b[0m \u001b[1;33m=\u001b[0m \u001b[0msave\u001b[0m\u001b[1;33m(\u001b[0m\u001b[1;33m**\u001b[0m\u001b[0mkwds\u001b[0m\u001b[1;33m)\u001b[0m\u001b[1;33m\u001b[0m\u001b[1;33m\u001b[0m\u001b[0m\n\u001b[0m\u001b[0;32m    489\u001b[0m         \u001b[1;32melse\u001b[0m\u001b[1;33m:\u001b[0m\u001b[1;33m\u001b[0m\u001b[1;33m\u001b[0m\u001b[0m\n\u001b[0;32m    490\u001b[0m             \u001b[0mresult\u001b[0m \u001b[1;33m=\u001b[0m \u001b[0msave\u001b[0m\u001b[1;33m(\u001b[0m\u001b[1;33m**\u001b[0m\u001b[0mkwds\u001b[0m\u001b[1;33m)\u001b[0m\u001b[1;33m\u001b[0m\u001b[1;33m\u001b[0m\u001b[0m\n",
            "\u001b[1;32mc:\\Users\\jackk\\AppData\\Local\\Programs\\Python\\Python310\\lib\\site-packages\\altair\\utils\\save.py\u001b[0m in \u001b[0;36msave\u001b[1;34m(chart, fp, vega_version, vegaembed_version, format, mode, vegalite_version, embed_options, json_kwds, webdriver, scale_factor, **kwargs)\u001b[0m\n\u001b[0;32m     81\u001b[0m             )\n\u001b[0;32m     82\u001b[0m \u001b[1;33m\u001b[0m\u001b[0m\n\u001b[1;32m---> 83\u001b[1;33m     \u001b[0mspec\u001b[0m \u001b[1;33m=\u001b[0m \u001b[0mchart\u001b[0m\u001b[1;33m.\u001b[0m\u001b[0mto_dict\u001b[0m\u001b[1;33m(\u001b[0m\u001b[1;33m)\u001b[0m\u001b[1;33m\u001b[0m\u001b[1;33m\u001b[0m\u001b[0m\n\u001b[0m\u001b[0;32m     84\u001b[0m \u001b[1;33m\u001b[0m\u001b[0m\n\u001b[0;32m     85\u001b[0m     \u001b[1;32mif\u001b[0m \u001b[0mmode\u001b[0m \u001b[1;32mis\u001b[0m \u001b[1;32mNone\u001b[0m\u001b[1;33m:\u001b[0m\u001b[1;33m\u001b[0m\u001b[1;33m\u001b[0m\u001b[0m\n",
            "\u001b[1;32mc:\\Users\\jackk\\AppData\\Local\\Programs\\Python\\Python310\\lib\\site-packages\\altair\\vegalite\\v4\\api.py\u001b[0m in \u001b[0;36mto_dict\u001b[1;34m(self, *args, **kwargs)\u001b[0m\n\u001b[0;32m    382\u001b[0m \u001b[1;33m\u001b[0m\u001b[0m\n\u001b[0;32m    383\u001b[0m         \u001b[1;32mtry\u001b[0m\u001b[1;33m:\u001b[0m\u001b[1;33m\u001b[0m\u001b[1;33m\u001b[0m\u001b[0m\n\u001b[1;32m--> 384\u001b[1;33m             \u001b[0mdct\u001b[0m \u001b[1;33m=\u001b[0m \u001b[0msuper\u001b[0m\u001b[1;33m(\u001b[0m\u001b[0mTopLevelMixin\u001b[0m\u001b[1;33m,\u001b[0m \u001b[0mcopy\u001b[0m\u001b[1;33m)\u001b[0m\u001b[1;33m.\u001b[0m\u001b[0mto_dict\u001b[0m\u001b[1;33m(\u001b[0m\u001b[1;33m*\u001b[0m\u001b[0margs\u001b[0m\u001b[1;33m,\u001b[0m \u001b[1;33m**\u001b[0m\u001b[0mkwargs\u001b[0m\u001b[1;33m)\u001b[0m\u001b[1;33m\u001b[0m\u001b[1;33m\u001b[0m\u001b[0m\n\u001b[0m\u001b[0;32m    385\u001b[0m         \u001b[1;32mexcept\u001b[0m \u001b[0mjsonschema\u001b[0m\u001b[1;33m.\u001b[0m\u001b[0mValidationError\u001b[0m\u001b[1;33m:\u001b[0m\u001b[1;33m\u001b[0m\u001b[1;33m\u001b[0m\u001b[0m\n\u001b[0;32m    386\u001b[0m             \u001b[0mdct\u001b[0m \u001b[1;33m=\u001b[0m \u001b[1;32mNone\u001b[0m\u001b[1;33m\u001b[0m\u001b[1;33m\u001b[0m\u001b[0m\n",
            "\u001b[1;32mc:\\Users\\jackk\\AppData\\Local\\Programs\\Python\\Python310\\lib\\site-packages\\altair\\utils\\schemapi.py\u001b[0m in \u001b[0;36mto_dict\u001b[1;34m(self, validate, ignore, context)\u001b[0m\n\u001b[0;32m    324\u001b[0m             \u001b[0mresult\u001b[0m \u001b[1;33m=\u001b[0m \u001b[0m_todict\u001b[0m\u001b[1;33m(\u001b[0m\u001b[0mself\u001b[0m\u001b[1;33m.\u001b[0m\u001b[0m_args\u001b[0m\u001b[1;33m[\u001b[0m\u001b[1;36m0\u001b[0m\u001b[1;33m]\u001b[0m\u001b[1;33m,\u001b[0m \u001b[0mvalidate\u001b[0m\u001b[1;33m=\u001b[0m\u001b[0msub_validate\u001b[0m\u001b[1;33m,\u001b[0m \u001b[0mcontext\u001b[0m\u001b[1;33m=\u001b[0m\u001b[0mcontext\u001b[0m\u001b[1;33m)\u001b[0m\u001b[1;33m\u001b[0m\u001b[1;33m\u001b[0m\u001b[0m\n\u001b[0;32m    325\u001b[0m         \u001b[1;32melif\u001b[0m \u001b[1;32mnot\u001b[0m \u001b[0mself\u001b[0m\u001b[1;33m.\u001b[0m\u001b[0m_args\u001b[0m\u001b[1;33m:\u001b[0m\u001b[1;33m\u001b[0m\u001b[1;33m\u001b[0m\u001b[0m\n\u001b[1;32m--> 326\u001b[1;33m             result = _todict(\n\u001b[0m\u001b[0;32m    327\u001b[0m                 \u001b[1;33m{\u001b[0m\u001b[0mk\u001b[0m\u001b[1;33m:\u001b[0m \u001b[0mv\u001b[0m \u001b[1;32mfor\u001b[0m \u001b[0mk\u001b[0m\u001b[1;33m,\u001b[0m \u001b[0mv\u001b[0m \u001b[1;32min\u001b[0m \u001b[0mself\u001b[0m\u001b[1;33m.\u001b[0m\u001b[0m_kwds\u001b[0m\u001b[1;33m.\u001b[0m\u001b[0mitems\u001b[0m\u001b[1;33m(\u001b[0m\u001b[1;33m)\u001b[0m \u001b[1;32mif\u001b[0m \u001b[0mk\u001b[0m \u001b[1;32mnot\u001b[0m \u001b[1;32min\u001b[0m \u001b[0mignore\u001b[0m\u001b[1;33m}\u001b[0m\u001b[1;33m,\u001b[0m\u001b[1;33m\u001b[0m\u001b[1;33m\u001b[0m\u001b[0m\n\u001b[0;32m    328\u001b[0m                 \u001b[0mvalidate\u001b[0m\u001b[1;33m=\u001b[0m\u001b[0msub_validate\u001b[0m\u001b[1;33m,\u001b[0m\u001b[1;33m\u001b[0m\u001b[1;33m\u001b[0m\u001b[0m\n",
            "\u001b[1;32mc:\\Users\\jackk\\AppData\\Local\\Programs\\Python\\Python310\\lib\\site-packages\\altair\\utils\\schemapi.py\u001b[0m in \u001b[0;36m_todict\u001b[1;34m(obj, validate, context)\u001b[0m\n\u001b[0;32m     58\u001b[0m         \u001b[1;32mreturn\u001b[0m \u001b[1;33m[\u001b[0m\u001b[0m_todict\u001b[0m\u001b[1;33m(\u001b[0m\u001b[0mv\u001b[0m\u001b[1;33m,\u001b[0m \u001b[0mvalidate\u001b[0m\u001b[1;33m,\u001b[0m \u001b[0mcontext\u001b[0m\u001b[1;33m)\u001b[0m \u001b[1;32mfor\u001b[0m \u001b[0mv\u001b[0m \u001b[1;32min\u001b[0m \u001b[0mobj\u001b[0m\u001b[1;33m]\u001b[0m\u001b[1;33m\u001b[0m\u001b[1;33m\u001b[0m\u001b[0m\n\u001b[0;32m     59\u001b[0m     \u001b[1;32melif\u001b[0m \u001b[0misinstance\u001b[0m\u001b[1;33m(\u001b[0m\u001b[0mobj\u001b[0m\u001b[1;33m,\u001b[0m \u001b[0mdict\u001b[0m\u001b[1;33m)\u001b[0m\u001b[1;33m:\u001b[0m\u001b[1;33m\u001b[0m\u001b[1;33m\u001b[0m\u001b[0m\n\u001b[1;32m---> 60\u001b[1;33m         return {\n\u001b[0m\u001b[0;32m     61\u001b[0m             \u001b[0mk\u001b[0m\u001b[1;33m:\u001b[0m \u001b[0m_todict\u001b[0m\u001b[1;33m(\u001b[0m\u001b[0mv\u001b[0m\u001b[1;33m,\u001b[0m \u001b[0mvalidate\u001b[0m\u001b[1;33m,\u001b[0m \u001b[0mcontext\u001b[0m\u001b[1;33m)\u001b[0m\u001b[1;33m\u001b[0m\u001b[1;33m\u001b[0m\u001b[0m\n\u001b[0;32m     62\u001b[0m             \u001b[1;32mfor\u001b[0m \u001b[0mk\u001b[0m\u001b[1;33m,\u001b[0m \u001b[0mv\u001b[0m \u001b[1;32min\u001b[0m \u001b[0mobj\u001b[0m\u001b[1;33m.\u001b[0m\u001b[0mitems\u001b[0m\u001b[1;33m(\u001b[0m\u001b[1;33m)\u001b[0m\u001b[1;33m\u001b[0m\u001b[1;33m\u001b[0m\u001b[0m\n",
            "\u001b[1;32mc:\\Users\\jackk\\AppData\\Local\\Programs\\Python\\Python310\\lib\\site-packages\\altair\\utils\\schemapi.py\u001b[0m in \u001b[0;36m<dictcomp>\u001b[1;34m(.0)\u001b[0m\n\u001b[0;32m     59\u001b[0m     \u001b[1;32melif\u001b[0m \u001b[0misinstance\u001b[0m\u001b[1;33m(\u001b[0m\u001b[0mobj\u001b[0m\u001b[1;33m,\u001b[0m \u001b[0mdict\u001b[0m\u001b[1;33m)\u001b[0m\u001b[1;33m:\u001b[0m\u001b[1;33m\u001b[0m\u001b[1;33m\u001b[0m\u001b[0m\n\u001b[0;32m     60\u001b[0m         return {\n\u001b[1;32m---> 61\u001b[1;33m             \u001b[0mk\u001b[0m\u001b[1;33m:\u001b[0m \u001b[0m_todict\u001b[0m\u001b[1;33m(\u001b[0m\u001b[0mv\u001b[0m\u001b[1;33m,\u001b[0m \u001b[0mvalidate\u001b[0m\u001b[1;33m,\u001b[0m \u001b[0mcontext\u001b[0m\u001b[1;33m)\u001b[0m\u001b[1;33m\u001b[0m\u001b[1;33m\u001b[0m\u001b[0m\n\u001b[0m\u001b[0;32m     62\u001b[0m             \u001b[1;32mfor\u001b[0m \u001b[0mk\u001b[0m\u001b[1;33m,\u001b[0m \u001b[0mv\u001b[0m \u001b[1;32min\u001b[0m \u001b[0mobj\u001b[0m\u001b[1;33m.\u001b[0m\u001b[0mitems\u001b[0m\u001b[1;33m(\u001b[0m\u001b[1;33m)\u001b[0m\u001b[1;33m\u001b[0m\u001b[1;33m\u001b[0m\u001b[0m\n\u001b[0;32m     63\u001b[0m             \u001b[1;32mif\u001b[0m \u001b[0mv\u001b[0m \u001b[1;32mis\u001b[0m \u001b[1;32mnot\u001b[0m \u001b[0mUndefined\u001b[0m\u001b[1;33m\u001b[0m\u001b[1;33m\u001b[0m\u001b[0m\n",
            "\u001b[1;32mc:\\Users\\jackk\\AppData\\Local\\Programs\\Python\\Python310\\lib\\site-packages\\altair\\utils\\schemapi.py\u001b[0m in \u001b[0;36m_todict\u001b[1;34m(obj, validate, context)\u001b[0m\n\u001b[0;32m     56\u001b[0m         \u001b[1;32mreturn\u001b[0m \u001b[0mobj\u001b[0m\u001b[1;33m.\u001b[0m\u001b[0mto_dict\u001b[0m\u001b[1;33m(\u001b[0m\u001b[0mvalidate\u001b[0m\u001b[1;33m=\u001b[0m\u001b[0mvalidate\u001b[0m\u001b[1;33m,\u001b[0m \u001b[0mcontext\u001b[0m\u001b[1;33m=\u001b[0m\u001b[0mcontext\u001b[0m\u001b[1;33m)\u001b[0m\u001b[1;33m\u001b[0m\u001b[1;33m\u001b[0m\u001b[0m\n\u001b[0;32m     57\u001b[0m     \u001b[1;32melif\u001b[0m \u001b[0misinstance\u001b[0m\u001b[1;33m(\u001b[0m\u001b[0mobj\u001b[0m\u001b[1;33m,\u001b[0m \u001b[1;33m(\u001b[0m\u001b[0mlist\u001b[0m\u001b[1;33m,\u001b[0m \u001b[0mtuple\u001b[0m\u001b[1;33m,\u001b[0m \u001b[0mnp\u001b[0m\u001b[1;33m.\u001b[0m\u001b[0mndarray\u001b[0m\u001b[1;33m)\u001b[0m\u001b[1;33m)\u001b[0m\u001b[1;33m:\u001b[0m\u001b[1;33m\u001b[0m\u001b[1;33m\u001b[0m\u001b[0m\n\u001b[1;32m---> 58\u001b[1;33m         \u001b[1;32mreturn\u001b[0m \u001b[1;33m[\u001b[0m\u001b[0m_todict\u001b[0m\u001b[1;33m(\u001b[0m\u001b[0mv\u001b[0m\u001b[1;33m,\u001b[0m \u001b[0mvalidate\u001b[0m\u001b[1;33m,\u001b[0m \u001b[0mcontext\u001b[0m\u001b[1;33m)\u001b[0m \u001b[1;32mfor\u001b[0m \u001b[0mv\u001b[0m \u001b[1;32min\u001b[0m \u001b[0mobj\u001b[0m\u001b[1;33m]\u001b[0m\u001b[1;33m\u001b[0m\u001b[1;33m\u001b[0m\u001b[0m\n\u001b[0m\u001b[0;32m     59\u001b[0m     \u001b[1;32melif\u001b[0m \u001b[0misinstance\u001b[0m\u001b[1;33m(\u001b[0m\u001b[0mobj\u001b[0m\u001b[1;33m,\u001b[0m \u001b[0mdict\u001b[0m\u001b[1;33m)\u001b[0m\u001b[1;33m:\u001b[0m\u001b[1;33m\u001b[0m\u001b[1;33m\u001b[0m\u001b[0m\n\u001b[0;32m     60\u001b[0m         return {\n",
            "\u001b[1;32mc:\\Users\\jackk\\AppData\\Local\\Programs\\Python\\Python310\\lib\\site-packages\\altair\\utils\\schemapi.py\u001b[0m in \u001b[0;36m<listcomp>\u001b[1;34m(.0)\u001b[0m\n\u001b[0;32m     56\u001b[0m         \u001b[1;32mreturn\u001b[0m \u001b[0mobj\u001b[0m\u001b[1;33m.\u001b[0m\u001b[0mto_dict\u001b[0m\u001b[1;33m(\u001b[0m\u001b[0mvalidate\u001b[0m\u001b[1;33m=\u001b[0m\u001b[0mvalidate\u001b[0m\u001b[1;33m,\u001b[0m \u001b[0mcontext\u001b[0m\u001b[1;33m=\u001b[0m\u001b[0mcontext\u001b[0m\u001b[1;33m)\u001b[0m\u001b[1;33m\u001b[0m\u001b[1;33m\u001b[0m\u001b[0m\n\u001b[0;32m     57\u001b[0m     \u001b[1;32melif\u001b[0m \u001b[0misinstance\u001b[0m\u001b[1;33m(\u001b[0m\u001b[0mobj\u001b[0m\u001b[1;33m,\u001b[0m \u001b[1;33m(\u001b[0m\u001b[0mlist\u001b[0m\u001b[1;33m,\u001b[0m \u001b[0mtuple\u001b[0m\u001b[1;33m,\u001b[0m \u001b[0mnp\u001b[0m\u001b[1;33m.\u001b[0m\u001b[0mndarray\u001b[0m\u001b[1;33m)\u001b[0m\u001b[1;33m)\u001b[0m\u001b[1;33m:\u001b[0m\u001b[1;33m\u001b[0m\u001b[1;33m\u001b[0m\u001b[0m\n\u001b[1;32m---> 58\u001b[1;33m         \u001b[1;32mreturn\u001b[0m \u001b[1;33m[\u001b[0m\u001b[0m_todict\u001b[0m\u001b[1;33m(\u001b[0m\u001b[0mv\u001b[0m\u001b[1;33m,\u001b[0m \u001b[0mvalidate\u001b[0m\u001b[1;33m,\u001b[0m \u001b[0mcontext\u001b[0m\u001b[1;33m)\u001b[0m \u001b[1;32mfor\u001b[0m \u001b[0mv\u001b[0m \u001b[1;32min\u001b[0m \u001b[0mobj\u001b[0m\u001b[1;33m]\u001b[0m\u001b[1;33m\u001b[0m\u001b[1;33m\u001b[0m\u001b[0m\n\u001b[0m\u001b[0;32m     59\u001b[0m     \u001b[1;32melif\u001b[0m \u001b[0misinstance\u001b[0m\u001b[1;33m(\u001b[0m\u001b[0mobj\u001b[0m\u001b[1;33m,\u001b[0m \u001b[0mdict\u001b[0m\u001b[1;33m)\u001b[0m\u001b[1;33m:\u001b[0m\u001b[1;33m\u001b[0m\u001b[1;33m\u001b[0m\u001b[0m\n\u001b[0;32m     60\u001b[0m         return {\n",
            "\u001b[1;32mc:\\Users\\jackk\\AppData\\Local\\Programs\\Python\\Python310\\lib\\site-packages\\altair\\utils\\schemapi.py\u001b[0m in \u001b[0;36m_todict\u001b[1;34m(obj, validate, context)\u001b[0m\n\u001b[0;32m     54\u001b[0m     \u001b[1;34m\"\"\"Convert an object to a dict representation.\"\"\"\u001b[0m\u001b[1;33m\u001b[0m\u001b[1;33m\u001b[0m\u001b[0m\n\u001b[0;32m     55\u001b[0m     \u001b[1;32mif\u001b[0m \u001b[0misinstance\u001b[0m\u001b[1;33m(\u001b[0m\u001b[0mobj\u001b[0m\u001b[1;33m,\u001b[0m \u001b[0mSchemaBase\u001b[0m\u001b[1;33m)\u001b[0m\u001b[1;33m:\u001b[0m\u001b[1;33m\u001b[0m\u001b[1;33m\u001b[0m\u001b[0m\n\u001b[1;32m---> 56\u001b[1;33m         \u001b[1;32mreturn\u001b[0m \u001b[0mobj\u001b[0m\u001b[1;33m.\u001b[0m\u001b[0mto_dict\u001b[0m\u001b[1;33m(\u001b[0m\u001b[0mvalidate\u001b[0m\u001b[1;33m=\u001b[0m\u001b[0mvalidate\u001b[0m\u001b[1;33m,\u001b[0m \u001b[0mcontext\u001b[0m\u001b[1;33m=\u001b[0m\u001b[0mcontext\u001b[0m\u001b[1;33m)\u001b[0m\u001b[1;33m\u001b[0m\u001b[1;33m\u001b[0m\u001b[0m\n\u001b[0m\u001b[0;32m     57\u001b[0m     \u001b[1;32melif\u001b[0m \u001b[0misinstance\u001b[0m\u001b[1;33m(\u001b[0m\u001b[0mobj\u001b[0m\u001b[1;33m,\u001b[0m \u001b[1;33m(\u001b[0m\u001b[0mlist\u001b[0m\u001b[1;33m,\u001b[0m \u001b[0mtuple\u001b[0m\u001b[1;33m,\u001b[0m \u001b[0mnp\u001b[0m\u001b[1;33m.\u001b[0m\u001b[0mndarray\u001b[0m\u001b[1;33m)\u001b[0m\u001b[1;33m)\u001b[0m\u001b[1;33m:\u001b[0m\u001b[1;33m\u001b[0m\u001b[1;33m\u001b[0m\u001b[0m\n\u001b[0;32m     58\u001b[0m         \u001b[1;32mreturn\u001b[0m \u001b[1;33m[\u001b[0m\u001b[0m_todict\u001b[0m\u001b[1;33m(\u001b[0m\u001b[0mv\u001b[0m\u001b[1;33m,\u001b[0m \u001b[0mvalidate\u001b[0m\u001b[1;33m,\u001b[0m \u001b[0mcontext\u001b[0m\u001b[1;33m)\u001b[0m \u001b[1;32mfor\u001b[0m \u001b[0mv\u001b[0m \u001b[1;32min\u001b[0m \u001b[0mobj\u001b[0m\u001b[1;33m]\u001b[0m\u001b[1;33m\u001b[0m\u001b[1;33m\u001b[0m\u001b[0m\n",
            "\u001b[1;32mc:\\Users\\jackk\\AppData\\Local\\Programs\\Python\\Python310\\lib\\site-packages\\altair\\vegalite\\v4\\api.py\u001b[0m in \u001b[0;36mto_dict\u001b[1;34m(self, *args, **kwargs)\u001b[0m\n\u001b[0;32m   2018\u001b[0m             \u001b[0mcopy\u001b[0m\u001b[1;33m.\u001b[0m\u001b[0mdata\u001b[0m \u001b[1;33m=\u001b[0m \u001b[0mcore\u001b[0m\u001b[1;33m.\u001b[0m\u001b[0mInlineData\u001b[0m\u001b[1;33m(\u001b[0m\u001b[0mvalues\u001b[0m\u001b[1;33m=\u001b[0m\u001b[1;33m[\u001b[0m\u001b[1;33m{\u001b[0m\u001b[1;33m}\u001b[0m\u001b[1;33m]\u001b[0m\u001b[1;33m)\u001b[0m\u001b[1;33m\u001b[0m\u001b[1;33m\u001b[0m\u001b[0m\n\u001b[0;32m   2019\u001b[0m             \u001b[1;32mreturn\u001b[0m \u001b[0msuper\u001b[0m\u001b[1;33m(\u001b[0m\u001b[0mChart\u001b[0m\u001b[1;33m,\u001b[0m \u001b[0mcopy\u001b[0m\u001b[1;33m)\u001b[0m\u001b[1;33m.\u001b[0m\u001b[0mto_dict\u001b[0m\u001b[1;33m(\u001b[0m\u001b[1;33m*\u001b[0m\u001b[0margs\u001b[0m\u001b[1;33m,\u001b[0m \u001b[1;33m**\u001b[0m\u001b[0mkwargs\u001b[0m\u001b[1;33m)\u001b[0m\u001b[1;33m\u001b[0m\u001b[1;33m\u001b[0m\u001b[0m\n\u001b[1;32m-> 2020\u001b[1;33m         \u001b[1;32mreturn\u001b[0m \u001b[0msuper\u001b[0m\u001b[1;33m(\u001b[0m\u001b[1;33m)\u001b[0m\u001b[1;33m.\u001b[0m\u001b[0mto_dict\u001b[0m\u001b[1;33m(\u001b[0m\u001b[1;33m*\u001b[0m\u001b[0margs\u001b[0m\u001b[1;33m,\u001b[0m \u001b[1;33m**\u001b[0m\u001b[0mkwargs\u001b[0m\u001b[1;33m)\u001b[0m\u001b[1;33m\u001b[0m\u001b[1;33m\u001b[0m\u001b[0m\n\u001b[0m\u001b[0;32m   2021\u001b[0m \u001b[1;33m\u001b[0m\u001b[0m\n\u001b[0;32m   2022\u001b[0m     \u001b[1;32mdef\u001b[0m \u001b[0madd_selection\u001b[0m\u001b[1;33m(\u001b[0m\u001b[0mself\u001b[0m\u001b[1;33m,\u001b[0m \u001b[1;33m*\u001b[0m\u001b[0mselections\u001b[0m\u001b[1;33m)\u001b[0m\u001b[1;33m:\u001b[0m\u001b[1;33m\u001b[0m\u001b[1;33m\u001b[0m\u001b[0m\n",
            "\u001b[1;32mc:\\Users\\jackk\\AppData\\Local\\Programs\\Python\\Python310\\lib\\site-packages\\altair\\vegalite\\v4\\api.py\u001b[0m in \u001b[0;36mto_dict\u001b[1;34m(self, *args, **kwargs)\u001b[0m\n\u001b[0;32m    382\u001b[0m \u001b[1;33m\u001b[0m\u001b[0m\n\u001b[0;32m    383\u001b[0m         \u001b[1;32mtry\u001b[0m\u001b[1;33m:\u001b[0m\u001b[1;33m\u001b[0m\u001b[1;33m\u001b[0m\u001b[0m\n\u001b[1;32m--> 384\u001b[1;33m             \u001b[0mdct\u001b[0m \u001b[1;33m=\u001b[0m \u001b[0msuper\u001b[0m\u001b[1;33m(\u001b[0m\u001b[0mTopLevelMixin\u001b[0m\u001b[1;33m,\u001b[0m \u001b[0mcopy\u001b[0m\u001b[1;33m)\u001b[0m\u001b[1;33m.\u001b[0m\u001b[0mto_dict\u001b[0m\u001b[1;33m(\u001b[0m\u001b[1;33m*\u001b[0m\u001b[0margs\u001b[0m\u001b[1;33m,\u001b[0m \u001b[1;33m**\u001b[0m\u001b[0mkwargs\u001b[0m\u001b[1;33m)\u001b[0m\u001b[1;33m\u001b[0m\u001b[1;33m\u001b[0m\u001b[0m\n\u001b[0m\u001b[0;32m    385\u001b[0m         \u001b[1;32mexcept\u001b[0m \u001b[0mjsonschema\u001b[0m\u001b[1;33m.\u001b[0m\u001b[0mValidationError\u001b[0m\u001b[1;33m:\u001b[0m\u001b[1;33m\u001b[0m\u001b[1;33m\u001b[0m\u001b[0m\n\u001b[0;32m    386\u001b[0m             \u001b[0mdct\u001b[0m \u001b[1;33m=\u001b[0m \u001b[1;32mNone\u001b[0m\u001b[1;33m\u001b[0m\u001b[1;33m\u001b[0m\u001b[0m\n",
            "\u001b[1;32mc:\\Users\\jackk\\AppData\\Local\\Programs\\Python\\Python310\\lib\\site-packages\\altair\\utils\\schemapi.py\u001b[0m in \u001b[0;36mto_dict\u001b[1;34m(self, validate, ignore, context)\u001b[0m\n\u001b[0;32m    324\u001b[0m             \u001b[0mresult\u001b[0m \u001b[1;33m=\u001b[0m \u001b[0m_todict\u001b[0m\u001b[1;33m(\u001b[0m\u001b[0mself\u001b[0m\u001b[1;33m.\u001b[0m\u001b[0m_args\u001b[0m\u001b[1;33m[\u001b[0m\u001b[1;36m0\u001b[0m\u001b[1;33m]\u001b[0m\u001b[1;33m,\u001b[0m \u001b[0mvalidate\u001b[0m\u001b[1;33m=\u001b[0m\u001b[0msub_validate\u001b[0m\u001b[1;33m,\u001b[0m \u001b[0mcontext\u001b[0m\u001b[1;33m=\u001b[0m\u001b[0mcontext\u001b[0m\u001b[1;33m)\u001b[0m\u001b[1;33m\u001b[0m\u001b[1;33m\u001b[0m\u001b[0m\n\u001b[0;32m    325\u001b[0m         \u001b[1;32melif\u001b[0m \u001b[1;32mnot\u001b[0m \u001b[0mself\u001b[0m\u001b[1;33m.\u001b[0m\u001b[0m_args\u001b[0m\u001b[1;33m:\u001b[0m\u001b[1;33m\u001b[0m\u001b[1;33m\u001b[0m\u001b[0m\n\u001b[1;32m--> 326\u001b[1;33m             result = _todict(\n\u001b[0m\u001b[0;32m    327\u001b[0m                 \u001b[1;33m{\u001b[0m\u001b[0mk\u001b[0m\u001b[1;33m:\u001b[0m \u001b[0mv\u001b[0m \u001b[1;32mfor\u001b[0m \u001b[0mk\u001b[0m\u001b[1;33m,\u001b[0m \u001b[0mv\u001b[0m \u001b[1;32min\u001b[0m \u001b[0mself\u001b[0m\u001b[1;33m.\u001b[0m\u001b[0m_kwds\u001b[0m\u001b[1;33m.\u001b[0m\u001b[0mitems\u001b[0m\u001b[1;33m(\u001b[0m\u001b[1;33m)\u001b[0m \u001b[1;32mif\u001b[0m \u001b[0mk\u001b[0m \u001b[1;32mnot\u001b[0m \u001b[1;32min\u001b[0m \u001b[0mignore\u001b[0m\u001b[1;33m}\u001b[0m\u001b[1;33m,\u001b[0m\u001b[1;33m\u001b[0m\u001b[1;33m\u001b[0m\u001b[0m\n\u001b[0;32m    328\u001b[0m                 \u001b[0mvalidate\u001b[0m\u001b[1;33m=\u001b[0m\u001b[0msub_validate\u001b[0m\u001b[1;33m,\u001b[0m\u001b[1;33m\u001b[0m\u001b[1;33m\u001b[0m\u001b[0m\n",
            "\u001b[1;32mc:\\Users\\jackk\\AppData\\Local\\Programs\\Python\\Python310\\lib\\site-packages\\altair\\utils\\schemapi.py\u001b[0m in \u001b[0;36m_todict\u001b[1;34m(obj, validate, context)\u001b[0m\n\u001b[0;32m     58\u001b[0m         \u001b[1;32mreturn\u001b[0m \u001b[1;33m[\u001b[0m\u001b[0m_todict\u001b[0m\u001b[1;33m(\u001b[0m\u001b[0mv\u001b[0m\u001b[1;33m,\u001b[0m \u001b[0mvalidate\u001b[0m\u001b[1;33m,\u001b[0m \u001b[0mcontext\u001b[0m\u001b[1;33m)\u001b[0m \u001b[1;32mfor\u001b[0m \u001b[0mv\u001b[0m \u001b[1;32min\u001b[0m \u001b[0mobj\u001b[0m\u001b[1;33m]\u001b[0m\u001b[1;33m\u001b[0m\u001b[1;33m\u001b[0m\u001b[0m\n\u001b[0;32m     59\u001b[0m     \u001b[1;32melif\u001b[0m \u001b[0misinstance\u001b[0m\u001b[1;33m(\u001b[0m\u001b[0mobj\u001b[0m\u001b[1;33m,\u001b[0m \u001b[0mdict\u001b[0m\u001b[1;33m)\u001b[0m\u001b[1;33m:\u001b[0m\u001b[1;33m\u001b[0m\u001b[1;33m\u001b[0m\u001b[0m\n\u001b[1;32m---> 60\u001b[1;33m         return {\n\u001b[0m\u001b[0;32m     61\u001b[0m             \u001b[0mk\u001b[0m\u001b[1;33m:\u001b[0m \u001b[0m_todict\u001b[0m\u001b[1;33m(\u001b[0m\u001b[0mv\u001b[0m\u001b[1;33m,\u001b[0m \u001b[0mvalidate\u001b[0m\u001b[1;33m,\u001b[0m \u001b[0mcontext\u001b[0m\u001b[1;33m)\u001b[0m\u001b[1;33m\u001b[0m\u001b[1;33m\u001b[0m\u001b[0m\n\u001b[0;32m     62\u001b[0m             \u001b[1;32mfor\u001b[0m \u001b[0mk\u001b[0m\u001b[1;33m,\u001b[0m \u001b[0mv\u001b[0m \u001b[1;32min\u001b[0m \u001b[0mobj\u001b[0m\u001b[1;33m.\u001b[0m\u001b[0mitems\u001b[0m\u001b[1;33m(\u001b[0m\u001b[1;33m)\u001b[0m\u001b[1;33m\u001b[0m\u001b[1;33m\u001b[0m\u001b[0m\n",
            "\u001b[1;32mc:\\Users\\jackk\\AppData\\Local\\Programs\\Python\\Python310\\lib\\site-packages\\altair\\utils\\schemapi.py\u001b[0m in \u001b[0;36m<dictcomp>\u001b[1;34m(.0)\u001b[0m\n\u001b[0;32m     59\u001b[0m     \u001b[1;32melif\u001b[0m \u001b[0misinstance\u001b[0m\u001b[1;33m(\u001b[0m\u001b[0mobj\u001b[0m\u001b[1;33m,\u001b[0m \u001b[0mdict\u001b[0m\u001b[1;33m)\u001b[0m\u001b[1;33m:\u001b[0m\u001b[1;33m\u001b[0m\u001b[1;33m\u001b[0m\u001b[0m\n\u001b[0;32m     60\u001b[0m         return {\n\u001b[1;32m---> 61\u001b[1;33m             \u001b[0mk\u001b[0m\u001b[1;33m:\u001b[0m \u001b[0m_todict\u001b[0m\u001b[1;33m(\u001b[0m\u001b[0mv\u001b[0m\u001b[1;33m,\u001b[0m \u001b[0mvalidate\u001b[0m\u001b[1;33m,\u001b[0m \u001b[0mcontext\u001b[0m\u001b[1;33m)\u001b[0m\u001b[1;33m\u001b[0m\u001b[1;33m\u001b[0m\u001b[0m\n\u001b[0m\u001b[0;32m     62\u001b[0m             \u001b[1;32mfor\u001b[0m \u001b[0mk\u001b[0m\u001b[1;33m,\u001b[0m \u001b[0mv\u001b[0m \u001b[1;32min\u001b[0m \u001b[0mobj\u001b[0m\u001b[1;33m.\u001b[0m\u001b[0mitems\u001b[0m\u001b[1;33m(\u001b[0m\u001b[1;33m)\u001b[0m\u001b[1;33m\u001b[0m\u001b[1;33m\u001b[0m\u001b[0m\n\u001b[0;32m     63\u001b[0m             \u001b[1;32mif\u001b[0m \u001b[0mv\u001b[0m \u001b[1;32mis\u001b[0m \u001b[1;32mnot\u001b[0m \u001b[0mUndefined\u001b[0m\u001b[1;33m\u001b[0m\u001b[1;33m\u001b[0m\u001b[0m\n",
            "\u001b[1;32mc:\\Users\\jackk\\AppData\\Local\\Programs\\Python\\Python310\\lib\\site-packages\\altair\\utils\\schemapi.py\u001b[0m in \u001b[0;36m_todict\u001b[1;34m(obj, validate, context)\u001b[0m\n\u001b[0;32m     54\u001b[0m     \u001b[1;34m\"\"\"Convert an object to a dict representation.\"\"\"\u001b[0m\u001b[1;33m\u001b[0m\u001b[1;33m\u001b[0m\u001b[0m\n\u001b[0;32m     55\u001b[0m     \u001b[1;32mif\u001b[0m \u001b[0misinstance\u001b[0m\u001b[1;33m(\u001b[0m\u001b[0mobj\u001b[0m\u001b[1;33m,\u001b[0m \u001b[0mSchemaBase\u001b[0m\u001b[1;33m)\u001b[0m\u001b[1;33m:\u001b[0m\u001b[1;33m\u001b[0m\u001b[1;33m\u001b[0m\u001b[0m\n\u001b[1;32m---> 56\u001b[1;33m         \u001b[1;32mreturn\u001b[0m \u001b[0mobj\u001b[0m\u001b[1;33m.\u001b[0m\u001b[0mto_dict\u001b[0m\u001b[1;33m(\u001b[0m\u001b[0mvalidate\u001b[0m\u001b[1;33m=\u001b[0m\u001b[0mvalidate\u001b[0m\u001b[1;33m,\u001b[0m \u001b[0mcontext\u001b[0m\u001b[1;33m=\u001b[0m\u001b[0mcontext\u001b[0m\u001b[1;33m)\u001b[0m\u001b[1;33m\u001b[0m\u001b[1;33m\u001b[0m\u001b[0m\n\u001b[0m\u001b[0;32m     57\u001b[0m     \u001b[1;32melif\u001b[0m \u001b[0misinstance\u001b[0m\u001b[1;33m(\u001b[0m\u001b[0mobj\u001b[0m\u001b[1;33m,\u001b[0m \u001b[1;33m(\u001b[0m\u001b[0mlist\u001b[0m\u001b[1;33m,\u001b[0m \u001b[0mtuple\u001b[0m\u001b[1;33m,\u001b[0m \u001b[0mnp\u001b[0m\u001b[1;33m.\u001b[0m\u001b[0mndarray\u001b[0m\u001b[1;33m)\u001b[0m\u001b[1;33m)\u001b[0m\u001b[1;33m:\u001b[0m\u001b[1;33m\u001b[0m\u001b[1;33m\u001b[0m\u001b[0m\n\u001b[0;32m     58\u001b[0m         \u001b[1;32mreturn\u001b[0m \u001b[1;33m[\u001b[0m\u001b[0m_todict\u001b[0m\u001b[1;33m(\u001b[0m\u001b[0mv\u001b[0m\u001b[1;33m,\u001b[0m \u001b[0mvalidate\u001b[0m\u001b[1;33m,\u001b[0m \u001b[0mcontext\u001b[0m\u001b[1;33m)\u001b[0m \u001b[1;32mfor\u001b[0m \u001b[0mv\u001b[0m \u001b[1;32min\u001b[0m \u001b[0mobj\u001b[0m\u001b[1;33m]\u001b[0m\u001b[1;33m\u001b[0m\u001b[1;33m\u001b[0m\u001b[0m\n",
            "\u001b[1;32mc:\\Users\\jackk\\AppData\\Local\\Programs\\Python\\Python310\\lib\\site-packages\\altair\\utils\\schemapi.py\u001b[0m in \u001b[0;36mto_dict\u001b[1;34m(self, validate, ignore, context)\u001b[0m\n\u001b[0;32m    324\u001b[0m             \u001b[0mresult\u001b[0m \u001b[1;33m=\u001b[0m \u001b[0m_todict\u001b[0m\u001b[1;33m(\u001b[0m\u001b[0mself\u001b[0m\u001b[1;33m.\u001b[0m\u001b[0m_args\u001b[0m\u001b[1;33m[\u001b[0m\u001b[1;36m0\u001b[0m\u001b[1;33m]\u001b[0m\u001b[1;33m,\u001b[0m \u001b[0mvalidate\u001b[0m\u001b[1;33m=\u001b[0m\u001b[0msub_validate\u001b[0m\u001b[1;33m,\u001b[0m \u001b[0mcontext\u001b[0m\u001b[1;33m=\u001b[0m\u001b[0mcontext\u001b[0m\u001b[1;33m)\u001b[0m\u001b[1;33m\u001b[0m\u001b[1;33m\u001b[0m\u001b[0m\n\u001b[0;32m    325\u001b[0m         \u001b[1;32melif\u001b[0m \u001b[1;32mnot\u001b[0m \u001b[0mself\u001b[0m\u001b[1;33m.\u001b[0m\u001b[0m_args\u001b[0m\u001b[1;33m:\u001b[0m\u001b[1;33m\u001b[0m\u001b[1;33m\u001b[0m\u001b[0m\n\u001b[1;32m--> 326\u001b[1;33m             result = _todict(\n\u001b[0m\u001b[0;32m    327\u001b[0m                 \u001b[1;33m{\u001b[0m\u001b[0mk\u001b[0m\u001b[1;33m:\u001b[0m \u001b[0mv\u001b[0m \u001b[1;32mfor\u001b[0m \u001b[0mk\u001b[0m\u001b[1;33m,\u001b[0m \u001b[0mv\u001b[0m \u001b[1;32min\u001b[0m \u001b[0mself\u001b[0m\u001b[1;33m.\u001b[0m\u001b[0m_kwds\u001b[0m\u001b[1;33m.\u001b[0m\u001b[0mitems\u001b[0m\u001b[1;33m(\u001b[0m\u001b[1;33m)\u001b[0m \u001b[1;32mif\u001b[0m \u001b[0mk\u001b[0m \u001b[1;32mnot\u001b[0m \u001b[1;32min\u001b[0m \u001b[0mignore\u001b[0m\u001b[1;33m}\u001b[0m\u001b[1;33m,\u001b[0m\u001b[1;33m\u001b[0m\u001b[1;33m\u001b[0m\u001b[0m\n\u001b[0;32m    328\u001b[0m                 \u001b[0mvalidate\u001b[0m\u001b[1;33m=\u001b[0m\u001b[0msub_validate\u001b[0m\u001b[1;33m,\u001b[0m\u001b[1;33m\u001b[0m\u001b[1;33m\u001b[0m\u001b[0m\n",
            "\u001b[1;32mc:\\Users\\jackk\\AppData\\Local\\Programs\\Python\\Python310\\lib\\site-packages\\altair\\utils\\schemapi.py\u001b[0m in \u001b[0;36m_todict\u001b[1;34m(obj, validate, context)\u001b[0m\n\u001b[0;32m     58\u001b[0m         \u001b[1;32mreturn\u001b[0m \u001b[1;33m[\u001b[0m\u001b[0m_todict\u001b[0m\u001b[1;33m(\u001b[0m\u001b[0mv\u001b[0m\u001b[1;33m,\u001b[0m \u001b[0mvalidate\u001b[0m\u001b[1;33m,\u001b[0m \u001b[0mcontext\u001b[0m\u001b[1;33m)\u001b[0m \u001b[1;32mfor\u001b[0m \u001b[0mv\u001b[0m \u001b[1;32min\u001b[0m \u001b[0mobj\u001b[0m\u001b[1;33m]\u001b[0m\u001b[1;33m\u001b[0m\u001b[1;33m\u001b[0m\u001b[0m\n\u001b[0;32m     59\u001b[0m     \u001b[1;32melif\u001b[0m \u001b[0misinstance\u001b[0m\u001b[1;33m(\u001b[0m\u001b[0mobj\u001b[0m\u001b[1;33m,\u001b[0m \u001b[0mdict\u001b[0m\u001b[1;33m)\u001b[0m\u001b[1;33m:\u001b[0m\u001b[1;33m\u001b[0m\u001b[1;33m\u001b[0m\u001b[0m\n\u001b[1;32m---> 60\u001b[1;33m         return {\n\u001b[0m\u001b[0;32m     61\u001b[0m             \u001b[0mk\u001b[0m\u001b[1;33m:\u001b[0m \u001b[0m_todict\u001b[0m\u001b[1;33m(\u001b[0m\u001b[0mv\u001b[0m\u001b[1;33m,\u001b[0m \u001b[0mvalidate\u001b[0m\u001b[1;33m,\u001b[0m \u001b[0mcontext\u001b[0m\u001b[1;33m)\u001b[0m\u001b[1;33m\u001b[0m\u001b[1;33m\u001b[0m\u001b[0m\n\u001b[0;32m     62\u001b[0m             \u001b[1;32mfor\u001b[0m \u001b[0mk\u001b[0m\u001b[1;33m,\u001b[0m \u001b[0mv\u001b[0m \u001b[1;32min\u001b[0m \u001b[0mobj\u001b[0m\u001b[1;33m.\u001b[0m\u001b[0mitems\u001b[0m\u001b[1;33m(\u001b[0m\u001b[1;33m)\u001b[0m\u001b[1;33m\u001b[0m\u001b[1;33m\u001b[0m\u001b[0m\n",
            "\u001b[1;32mc:\\Users\\jackk\\AppData\\Local\\Programs\\Python\\Python310\\lib\\site-packages\\altair\\utils\\schemapi.py\u001b[0m in \u001b[0;36m<dictcomp>\u001b[1;34m(.0)\u001b[0m\n\u001b[0;32m     59\u001b[0m     \u001b[1;32melif\u001b[0m \u001b[0misinstance\u001b[0m\u001b[1;33m(\u001b[0m\u001b[0mobj\u001b[0m\u001b[1;33m,\u001b[0m \u001b[0mdict\u001b[0m\u001b[1;33m)\u001b[0m\u001b[1;33m:\u001b[0m\u001b[1;33m\u001b[0m\u001b[1;33m\u001b[0m\u001b[0m\n\u001b[0;32m     60\u001b[0m         return {\n\u001b[1;32m---> 61\u001b[1;33m             \u001b[0mk\u001b[0m\u001b[1;33m:\u001b[0m \u001b[0m_todict\u001b[0m\u001b[1;33m(\u001b[0m\u001b[0mv\u001b[0m\u001b[1;33m,\u001b[0m \u001b[0mvalidate\u001b[0m\u001b[1;33m,\u001b[0m \u001b[0mcontext\u001b[0m\u001b[1;33m)\u001b[0m\u001b[1;33m\u001b[0m\u001b[1;33m\u001b[0m\u001b[0m\n\u001b[0m\u001b[0;32m     62\u001b[0m             \u001b[1;32mfor\u001b[0m \u001b[0mk\u001b[0m\u001b[1;33m,\u001b[0m \u001b[0mv\u001b[0m \u001b[1;32min\u001b[0m \u001b[0mobj\u001b[0m\u001b[1;33m.\u001b[0m\u001b[0mitems\u001b[0m\u001b[1;33m(\u001b[0m\u001b[1;33m)\u001b[0m\u001b[1;33m\u001b[0m\u001b[1;33m\u001b[0m\u001b[0m\n\u001b[0;32m     63\u001b[0m             \u001b[1;32mif\u001b[0m \u001b[0mv\u001b[0m \u001b[1;32mis\u001b[0m \u001b[1;32mnot\u001b[0m \u001b[0mUndefined\u001b[0m\u001b[1;33m\u001b[0m\u001b[1;33m\u001b[0m\u001b[0m\n",
            "\u001b[1;32mc:\\Users\\jackk\\AppData\\Local\\Programs\\Python\\Python310\\lib\\site-packages\\altair\\utils\\schemapi.py\u001b[0m in \u001b[0;36m_todict\u001b[1;34m(obj, validate, context)\u001b[0m\n\u001b[0;32m     56\u001b[0m         \u001b[1;32mreturn\u001b[0m \u001b[0mobj\u001b[0m\u001b[1;33m.\u001b[0m\u001b[0mto_dict\u001b[0m\u001b[1;33m(\u001b[0m\u001b[0mvalidate\u001b[0m\u001b[1;33m=\u001b[0m\u001b[0mvalidate\u001b[0m\u001b[1;33m,\u001b[0m \u001b[0mcontext\u001b[0m\u001b[1;33m=\u001b[0m\u001b[0mcontext\u001b[0m\u001b[1;33m)\u001b[0m\u001b[1;33m\u001b[0m\u001b[1;33m\u001b[0m\u001b[0m\n\u001b[0;32m     57\u001b[0m     \u001b[1;32melif\u001b[0m \u001b[0misinstance\u001b[0m\u001b[1;33m(\u001b[0m\u001b[0mobj\u001b[0m\u001b[1;33m,\u001b[0m \u001b[1;33m(\u001b[0m\u001b[0mlist\u001b[0m\u001b[1;33m,\u001b[0m \u001b[0mtuple\u001b[0m\u001b[1;33m,\u001b[0m \u001b[0mnp\u001b[0m\u001b[1;33m.\u001b[0m\u001b[0mndarray\u001b[0m\u001b[1;33m)\u001b[0m\u001b[1;33m)\u001b[0m\u001b[1;33m:\u001b[0m\u001b[1;33m\u001b[0m\u001b[1;33m\u001b[0m\u001b[0m\n\u001b[1;32m---> 58\u001b[1;33m         \u001b[1;32mreturn\u001b[0m \u001b[1;33m[\u001b[0m\u001b[0m_todict\u001b[0m\u001b[1;33m(\u001b[0m\u001b[0mv\u001b[0m\u001b[1;33m,\u001b[0m \u001b[0mvalidate\u001b[0m\u001b[1;33m,\u001b[0m \u001b[0mcontext\u001b[0m\u001b[1;33m)\u001b[0m \u001b[1;32mfor\u001b[0m \u001b[0mv\u001b[0m \u001b[1;32min\u001b[0m \u001b[0mobj\u001b[0m\u001b[1;33m]\u001b[0m\u001b[1;33m\u001b[0m\u001b[1;33m\u001b[0m\u001b[0m\n\u001b[0m\u001b[0;32m     59\u001b[0m     \u001b[1;32melif\u001b[0m \u001b[0misinstance\u001b[0m\u001b[1;33m(\u001b[0m\u001b[0mobj\u001b[0m\u001b[1;33m,\u001b[0m \u001b[0mdict\u001b[0m\u001b[1;33m)\u001b[0m\u001b[1;33m:\u001b[0m\u001b[1;33m\u001b[0m\u001b[1;33m\u001b[0m\u001b[0m\n\u001b[0;32m     60\u001b[0m         return {\n",
            "\u001b[1;32mc:\\Users\\jackk\\AppData\\Local\\Programs\\Python\\Python310\\lib\\site-packages\\altair\\utils\\schemapi.py\u001b[0m in \u001b[0;36m<listcomp>\u001b[1;34m(.0)\u001b[0m\n\u001b[0;32m     56\u001b[0m         \u001b[1;32mreturn\u001b[0m \u001b[0mobj\u001b[0m\u001b[1;33m.\u001b[0m\u001b[0mto_dict\u001b[0m\u001b[1;33m(\u001b[0m\u001b[0mvalidate\u001b[0m\u001b[1;33m=\u001b[0m\u001b[0mvalidate\u001b[0m\u001b[1;33m,\u001b[0m \u001b[0mcontext\u001b[0m\u001b[1;33m=\u001b[0m\u001b[0mcontext\u001b[0m\u001b[1;33m)\u001b[0m\u001b[1;33m\u001b[0m\u001b[1;33m\u001b[0m\u001b[0m\n\u001b[0;32m     57\u001b[0m     \u001b[1;32melif\u001b[0m \u001b[0misinstance\u001b[0m\u001b[1;33m(\u001b[0m\u001b[0mobj\u001b[0m\u001b[1;33m,\u001b[0m \u001b[1;33m(\u001b[0m\u001b[0mlist\u001b[0m\u001b[1;33m,\u001b[0m \u001b[0mtuple\u001b[0m\u001b[1;33m,\u001b[0m \u001b[0mnp\u001b[0m\u001b[1;33m.\u001b[0m\u001b[0mndarray\u001b[0m\u001b[1;33m)\u001b[0m\u001b[1;33m)\u001b[0m\u001b[1;33m:\u001b[0m\u001b[1;33m\u001b[0m\u001b[1;33m\u001b[0m\u001b[0m\n\u001b[1;32m---> 58\u001b[1;33m         \u001b[1;32mreturn\u001b[0m \u001b[1;33m[\u001b[0m\u001b[0m_todict\u001b[0m\u001b[1;33m(\u001b[0m\u001b[0mv\u001b[0m\u001b[1;33m,\u001b[0m \u001b[0mvalidate\u001b[0m\u001b[1;33m,\u001b[0m \u001b[0mcontext\u001b[0m\u001b[1;33m)\u001b[0m \u001b[1;32mfor\u001b[0m \u001b[0mv\u001b[0m \u001b[1;32min\u001b[0m \u001b[0mobj\u001b[0m\u001b[1;33m]\u001b[0m\u001b[1;33m\u001b[0m\u001b[1;33m\u001b[0m\u001b[0m\n\u001b[0m\u001b[0;32m     59\u001b[0m     \u001b[1;32melif\u001b[0m \u001b[0misinstance\u001b[0m\u001b[1;33m(\u001b[0m\u001b[0mobj\u001b[0m\u001b[1;33m,\u001b[0m \u001b[0mdict\u001b[0m\u001b[1;33m)\u001b[0m\u001b[1;33m:\u001b[0m\u001b[1;33m\u001b[0m\u001b[1;33m\u001b[0m\u001b[0m\n\u001b[0;32m     60\u001b[0m         return {\n",
            "\u001b[1;32mc:\\Users\\jackk\\AppData\\Local\\Programs\\Python\\Python310\\lib\\site-packages\\altair\\utils\\schemapi.py\u001b[0m in \u001b[0;36m_todict\u001b[1;34m(obj, validate, context)\u001b[0m\n\u001b[0;32m     54\u001b[0m     \u001b[1;34m\"\"\"Convert an object to a dict representation.\"\"\"\u001b[0m\u001b[1;33m\u001b[0m\u001b[1;33m\u001b[0m\u001b[0m\n\u001b[0;32m     55\u001b[0m     \u001b[1;32mif\u001b[0m \u001b[0misinstance\u001b[0m\u001b[1;33m(\u001b[0m\u001b[0mobj\u001b[0m\u001b[1;33m,\u001b[0m \u001b[0mSchemaBase\u001b[0m\u001b[1;33m)\u001b[0m\u001b[1;33m:\u001b[0m\u001b[1;33m\u001b[0m\u001b[1;33m\u001b[0m\u001b[0m\n\u001b[1;32m---> 56\u001b[1;33m         \u001b[1;32mreturn\u001b[0m \u001b[0mobj\u001b[0m\u001b[1;33m.\u001b[0m\u001b[0mto_dict\u001b[0m\u001b[1;33m(\u001b[0m\u001b[0mvalidate\u001b[0m\u001b[1;33m=\u001b[0m\u001b[0mvalidate\u001b[0m\u001b[1;33m,\u001b[0m \u001b[0mcontext\u001b[0m\u001b[1;33m=\u001b[0m\u001b[0mcontext\u001b[0m\u001b[1;33m)\u001b[0m\u001b[1;33m\u001b[0m\u001b[1;33m\u001b[0m\u001b[0m\n\u001b[0m\u001b[0;32m     57\u001b[0m     \u001b[1;32melif\u001b[0m \u001b[0misinstance\u001b[0m\u001b[1;33m(\u001b[0m\u001b[0mobj\u001b[0m\u001b[1;33m,\u001b[0m \u001b[1;33m(\u001b[0m\u001b[0mlist\u001b[0m\u001b[1;33m,\u001b[0m \u001b[0mtuple\u001b[0m\u001b[1;33m,\u001b[0m \u001b[0mnp\u001b[0m\u001b[1;33m.\u001b[0m\u001b[0mndarray\u001b[0m\u001b[1;33m)\u001b[0m\u001b[1;33m)\u001b[0m\u001b[1;33m:\u001b[0m\u001b[1;33m\u001b[0m\u001b[1;33m\u001b[0m\u001b[0m\n\u001b[0;32m     58\u001b[0m         \u001b[1;32mreturn\u001b[0m \u001b[1;33m[\u001b[0m\u001b[0m_todict\u001b[0m\u001b[1;33m(\u001b[0m\u001b[0mv\u001b[0m\u001b[1;33m,\u001b[0m \u001b[0mvalidate\u001b[0m\u001b[1;33m,\u001b[0m \u001b[0mcontext\u001b[0m\u001b[1;33m)\u001b[0m \u001b[1;32mfor\u001b[0m \u001b[0mv\u001b[0m \u001b[1;32min\u001b[0m \u001b[0mobj\u001b[0m\u001b[1;33m]\u001b[0m\u001b[1;33m\u001b[0m\u001b[1;33m\u001b[0m\u001b[0m\n",
            "\u001b[1;32mc:\\Users\\jackk\\AppData\\Local\\Programs\\Python\\Python310\\lib\\site-packages\\altair\\vegalite\\v4\\schema\\channels.py\u001b[0m in \u001b[0;36mto_dict\u001b[1;34m(self, validate, ignore, context)\u001b[0m\n\u001b[0;32m     38\u001b[0m             \u001b[1;32melif\u001b[0m \u001b[1;32mnot\u001b[0m \u001b[1;33m(\u001b[0m\u001b[0mtype_in_shorthand\u001b[0m \u001b[1;32mor\u001b[0m \u001b[0mtype_defined_explicitly\u001b[0m\u001b[1;33m)\u001b[0m\u001b[1;33m:\u001b[0m\u001b[1;33m\u001b[0m\u001b[1;33m\u001b[0m\u001b[0m\n\u001b[0;32m     39\u001b[0m                 \u001b[1;32mif\u001b[0m \u001b[0misinstance\u001b[0m\u001b[1;33m(\u001b[0m\u001b[0mcontext\u001b[0m\u001b[1;33m.\u001b[0m\u001b[0mget\u001b[0m\u001b[1;33m(\u001b[0m\u001b[1;34m'data'\u001b[0m\u001b[1;33m,\u001b[0m \u001b[1;32mNone\u001b[0m\u001b[1;33m)\u001b[0m\u001b[1;33m,\u001b[0m \u001b[0mpd\u001b[0m\u001b[1;33m.\u001b[0m\u001b[0mDataFrame\u001b[0m\u001b[1;33m)\u001b[0m\u001b[1;33m:\u001b[0m\u001b[1;33m\u001b[0m\u001b[1;33m\u001b[0m\u001b[0m\n\u001b[1;32m---> 40\u001b[1;33m                     raise ValueError(\"{} encoding field is specified without a type; \"\n\u001b[0m\u001b[0;32m     41\u001b[0m                                      \u001b[1;34m\"the type cannot be inferred because it does not \"\u001b[0m\u001b[1;33m\u001b[0m\u001b[1;33m\u001b[0m\u001b[0m\n\u001b[0;32m     42\u001b[0m                                      \"match any column in the data.\".format(shorthand))\n",
            "\u001b[1;31mValueError\u001b[0m: Country encoding field is specified without a type; the type cannot be inferred because it does not match any column in the data."
          ]
        }
      ],
      "source": [
        "## Does money buy happiness?\n",
        "\n",
        "selection = alt.selection_multi(fields=['Continent'])\n",
        "dom = ['Africa', 'Asia', 'Europe', 'North America', 'Oceania', 'South America']\n",
        "rng = ['#e41a1c', '#377eb8', '#4daf4a', '#984ea3', 'gold', '#ff7f00']\n",
        "\n",
        "continent_color = alt.condition(selection,    # Set the color to change depending on a the selection\n",
        "      alt.Color(\"Continent:N\", scale=alt.Scale(domain=dom, range=rng),legend=None),\n",
        "      alt.value(\"lightgray\"))\n",
        "\n",
        "scatterplot = alt.Chart(happy).mark_circle(opacity=0.9).encode(\n",
        "  x=alt.X(\"GDP per capita:Q\",axis=alt.Axis(title='GDP per capita, scaled')),\n",
        "  y=\"Score:Q\",\n",
        "  color=continent_color,\n",
        "  tooltip=['Country', 'Score', 'Overall rank']\n",
        ").properties(\n",
        "  title='Does money (in GDP per capita) buy happiness?'\n",
        ").add_selection(selection).interactive()\n",
        "\n",
        "legend = alt.Chart(happy).mark_rect().encode(\n",
        "    y=alt.Y(\"Continent:N\", axis=alt.Axis(orient=\"right\")),\n",
        "    color=continent_color\n",
        ").add_selection(selection) # We now add it to the legend instead, since that is what the viewer interacts with\n",
        "\n",
        "GDPscatter = scatterplot | legend\n",
        "\n",
        "GDPscatter\n",
        "GDPscatter.save('GDPscatter.html')"
      ]
    },
    {
      "cell_type": "code",
      "execution_count": 9,
      "metadata": {
        "collapsed": true,
        "execution": {
          "iopub.execute_input": "2022-03-08T16:16:09.311Z",
          "iopub.status.busy": "2022-03-08T16:16:09.300Z",
          "iopub.status.idle": "2022-03-08T16:16:09.410Z",
          "shell.execute_reply": "2022-03-08T16:16:09.467Z"
        },
        "jupyter": {
          "outputs_hidden": false,
          "source_hidden": false
        },
        "nteract": {
          "transient": {
            "deleting": false
          }
        }
      },
      "outputs": [
        {
          "data": {
            "text/plain": [
              "count    156.000000\n",
              "mean       5.407096\n",
              "std        1.113120\n",
              "min        2.853000\n",
              "25%        4.544500\n",
              "50%        5.379500\n",
              "75%        6.184500\n",
              "max        7.769000\n",
              "Name: Score, dtype: float64"
            ]
          },
          "execution_count": 9,
          "metadata": {},
          "output_type": "execute_result"
        }
      ],
      "source": [
        "happy[\"Score\"].describe()"
      ]
    },
    {
      "cell_type": "code",
      "execution_count": 10,
      "metadata": {
        "collapsed": true,
        "execution": {
          "iopub.execute_input": "2022-03-08T16:31:15.612Z",
          "iopub.status.busy": "2022-03-08T16:31:15.598Z",
          "iopub.status.idle": "2022-03-08T16:31:15.914Z",
          "shell.execute_reply": "2022-03-08T16:31:16.115Z"
        },
        "jupyter": {
          "outputs_hidden": false,
          "source_hidden": false
        },
        "nteract": {
          "transient": {
            "deleting": false
          }
        }
      },
      "outputs": [
        {
          "name": "stderr",
          "output_type": "stream",
          "text": [
            "c:\\Users\\jackk\\AppData\\Local\\Programs\\Python\\Python310\\lib\\site-packages\\seaborn\\_decorators.py:36: FutureWarning: Pass the following variable as a keyword arg: x. From version 0.12, the only valid positional argument will be `data`, and passing other arguments without an explicit keyword will result in an error or misinterpretation.\n",
            "  warnings.warn(\n"
          ]
        },
        {
          "data": {
            "text/plain": [
              "<AxesSubplot:xlabel='Score'>"
            ]
          },
          "execution_count": 10,
          "metadata": {},
          "output_type": "execute_result"
        },
        {
          "data": {
            "image/png": "[encoded data removed]",
            "text/plain": [
              "<Figure size 432x288 with 1 Axes>"
            ]
          },
          "metadata": {
            "needs_background": "light"
          },
          "output_type": "display_data"
        }
      ],
      "source": [
        "sns.violinplot(happy[\"Score\"])"
      ]
    },
    {
      "cell_type": "code",
      "execution_count": 11,
      "metadata": {
        "collapsed": true,
        "execution": {
          "iopub.execute_input": "2022-03-08T16:16:59.202Z",
          "iopub.status.busy": "2022-03-08T16:16:59.160Z",
          "iopub.status.idle": "2022-03-08T16:16:59.309Z",
          "shell.execute_reply": "2022-03-08T16:16:59.356Z"
        },
        "jupyter": {
          "outputs_hidden": false,
          "source_hidden": false
        },
        "nteract": {
          "transient": {
            "deleting": false
          }
        }
      },
      "outputs": [
        {
          "data": {
            "text/plain": [
              "0.7938828678781273"
            ]
          },
          "execution_count": 11,
          "metadata": {},
          "output_type": "execute_result"
        }
      ],
      "source": [
        "happy[\"Score\"].corr(happy[\"GDP per capita\"])"
      ]
    },
    {
      "cell_type": "code",
      "execution_count": 13,
      "metadata": {
        "collapsed": true,
        "execution": {
          "iopub.execute_input": "2022-03-08T16:18:36.205Z",
          "iopub.status.busy": "2022-03-08T16:18:36.194Z",
          "iopub.status.idle": "2022-03-08T16:18:36.229Z",
          "shell.execute_reply": "2022-03-08T16:18:36.255Z"
        },
        "jupyter": {
          "outputs_hidden": false,
          "source_hidden": false
        },
        "nteract": {
          "transient": {
            "deleting": false
          }
        }
      },
      "outputs": [
        {
          "data": {
            "text/plain": [
              "0.7770577880638639"
            ]
          },
          "execution_count": 13,
          "metadata": {},
          "output_type": "execute_result"
        }
      ],
      "source": [
        "happy[\"Score\"].corr(happy[\"Social support\"])"
      ]
    },
    {
      "cell_type": "code",
      "execution_count": 168,
      "metadata": {
        "collapsed": true,
        "execution": {
          "iopub.execute_input": "2022-03-08T16:19:14.811Z",
          "iopub.status.busy": "2022-03-08T16:19:14.802Z",
          "iopub.status.idle": "2022-03-08T16:19:14.830Z",
          "shell.execute_reply": "2022-03-08T16:19:14.848Z"
        },
        "jupyter": {
          "outputs_hidden": false,
          "source_hidden": false
        },
        "nteract": {
          "transient": {
            "deleting": false
          }
        }
      },
      "outputs": [
        {
          "data": {
            "text/plain": [
              "0.7789642801336891"
            ]
          },
          "execution_count": 168,
          "metadata": {},
          "output_type": "execute_result"
        }
      ],
      "source": [
        "happy[\"Score\"].corr(happy[\"Healthy life expectancy\"])"
      ]
    },
    {
      "cell_type": "code",
      "execution_count": 169,
      "metadata": {
        "collapsed": true,
        "execution": {
          "iopub.execute_input": "2022-03-08T16:20:01.347Z",
          "iopub.status.busy": "2022-03-08T16:20:01.335Z",
          "iopub.status.idle": "2022-03-08T16:20:01.371Z",
          "shell.execute_reply": "2022-03-08T16:20:01.393Z"
        },
        "jupyter": {
          "outputs_hidden": false,
          "source_hidden": false
        },
        "nteract": {
          "transient": {
            "deleting": false
          }
        }
      },
      "outputs": [
        {
          "data": {
            "text/plain": [
              "0.5645765325627999"
            ]
          },
          "execution_count": 169,
          "metadata": {},
          "output_type": "execute_result"
        }
      ],
      "source": [
        "happy[\"Score\"].corr(happy[\"Freedom to make life choices\"])"
      ]
    },
    {
      "cell_type": "code",
      "execution_count": 170,
      "metadata": {
        "collapsed": true,
        "execution": {
          "iopub.execute_input": "2022-03-08T16:20:23.613Z",
          "iopub.status.busy": "2022-03-08T16:20:23.599Z",
          "iopub.status.idle": "2022-03-08T16:20:23.635Z",
          "shell.execute_reply": "2022-03-08T16:20:23.656Z"
        },
        "jupyter": {
          "outputs_hidden": false,
          "source_hidden": false
        },
        "nteract": {
          "transient": {
            "deleting": false
          }
        }
      },
      "outputs": [
        {
          "data": {
            "text/plain": [
              "0.07768831243613275"
            ]
          },
          "execution_count": 170,
          "metadata": {},
          "output_type": "execute_result"
        }
      ],
      "source": [
        "happy[\"Score\"].corr(happy[\"Generosity\"])"
      ]
    },
    {
      "cell_type": "code",
      "execution_count": 171,
      "metadata": {
        "collapsed": true,
        "execution": {
          "iopub.execute_input": "2022-03-08T16:20:40.575Z",
          "iopub.status.busy": "2022-03-08T16:20:40.557Z",
          "iopub.status.idle": "2022-03-08T16:20:40.600Z",
          "shell.execute_reply": "2022-03-08T16:20:40.628Z"
        },
        "jupyter": {
          "outputs_hidden": false,
          "source_hidden": false
        },
        "nteract": {
          "transient": {
            "deleting": false
          }
        }
      },
      "outputs": [
        {
          "data": {
            "text/plain": [
              "0.3835433573968561"
            ]
          },
          "execution_count": 171,
          "metadata": {},
          "output_type": "execute_result"
        }
      ],
      "source": [
        "happy[\"Score\"].corr(happy[\"Perceptions of corruption\"])"
      ]
    },
    {
      "cell_type": "code",
      "execution_count": null,
      "metadata": {
        "collapsed": true,
        "jupyter": {
          "outputs_hidden": false,
          "source_hidden": false
        },
        "nteract": {
          "transient": {
            "deleting": false
          }
        }
      },
      "outputs": [],
      "source": [
        "# Exploratory visualization"
      ]
    },
    {
      "cell_type": "code",
      "execution_count": null,
      "metadata": {
        "collapsed": true,
        "jupyter": {
          "outputs_hidden": false,
          "source_hidden": false
        },
        "nteract": {
          "transient": {
            "deleting": false
          }
        }
      },
      "outputs": [],
      "source": [
        "In my map, the data that is being recorded is a map that colors each country based on their world happiness score. The mark is the world map and the channel is color. Light green represents the lowest scores, and dark blue/purple represents the highest scores. The total score is a sum of 6 different factors: GDP per capita, social support, healthy life expectancy, freedom to make life choices, generosity, and perceptions of corruption. The GDP per capita is a scaled number, and the other 5 factors use data from the Gallup World Poll. I am hoping to learn which countries are generally most happy, and which factors affect the happiness ranking. Some data that is left out is data from 40 other countries and other factors that contribute to the happiness score.\n",
        "\n",
        "After creating the map, I used Pandas to find summary statistics for the total score column in my dataset. I found that out of 155 countries, the average score is 5.41. The 25% value is 4.55, the 50% value is 5.39, and the 75% value is 6.19. Since the mean and median are very similar values, the data is evenly spread out for the most part."
      ]
    },
    {
      "cell_type": "code",
      "execution_count": null,
      "metadata": {
        "collapsed": true,
        "jupyter": {
          "outputs_hidden": false,
          "source_hidden": false
        },
        "nteract": {
          "transient": {
            "deleting": false
          }
        }
      },
      "outputs": [],
      "source": [
        "# Explanatory visualization"
      ]
    },
    {
      "cell_type": "code",
      "execution_count": null,
      "metadata": {
        "collapsed": true,
        "jupyter": {
          "outputs_hidden": false,
          "source_hidden": false
        },
        "nteract": {
          "transient": {
            "deleting": false
          }
        }
      },
      "outputs": [],
      "source": [
        "This visualization is a scatterplot that analyzes GDP per capita (scaled) vs the total happiness score. Furthermore, I designed the scatterplot such that you can click on the continents listed on the legend and see where all data points for that continent lie within the scatterplot. I chose to visualize GDP per capita vs. score because I wanted to see how a country’s GDP per capita affects a country’s happiness score. The marks of this graph are points and the tooltips, and the channels are the vertical + horizontal positions and colors. The points and positions are pretty self explanatory for the scatterplot, but I wanted to include color in my scatterplot to differentiate between different continents. In addition, I wanted to add a tooltip so that the user can identify which country represents that specific data point, as well as their score and overall rank.\n",
        "\n",
        "After I created the scatterplot, I found that the value of correlation between GDP per capita and the score is 0.795. This got me thinking. What about the other factors’ correlation to the score? The values of correlations are as follows: Social support vs score = 0.778; Healthy life expectancy vs score = 0.779; Freedom to make life choices = 0.565; Generosity = 0.078; Perceptions of corruption = 0.384. This means that GDP per capita best correlates with a country’s happiness ranking (out of all of the listed factors)."
      ]
    },
    {
      "cell_type": "code",
      "execution_count": null,
      "metadata": {
        "collapsed": true,
        "jupyter": {
          "outputs_hidden": false,
          "source_hidden": false
        },
        "nteract": {
          "transient": {
            "deleting": false
          }
        }
      },
      "outputs": [],
      "source": [
        "# Reflection"
      ]
    },
    {
      "cell_type": "code",
      "execution_count": null,
      "metadata": {
        "collapsed": true,
        "jupyter": {
          "outputs_hidden": false,
          "source_hidden": false
        },
        "nteract": {
          "transient": {
            "deleting": false
          }
        }
      },
      "outputs": [],
      "source": [
        "In my lab, I prioritized working on my map. I really had a lot of fun creating the map because I thought it would be really cool to visualize my data cartographically. However, since this is something that we hadn’t done in class, I spent a lot of time learning how to create a map. I had to import vega datasets to access the world map. Furthermore, I had to manually input the country id for every single row of data so that the computer could understand which country the dataset is referring to. After many hours and attempts, I was finally able to produce that map. (I didn’t mind spending all the time on this map, since it looks awesome). For my scatterplot, I also had to manually input the continent of each country so I could use the legend to color-code each datapoint and use the legend to click on where each continent’s data points are. For the long term project, I would like to learn more types of graphs I can make using Altair or other modules. So, I will have a greater variety of graphs to work with in my final report.\n",
        "\n"
      ]
    }
  ],
  "metadata": {
    "kernel_info": {
      "name": "python3"
    },
    "kernelspec": {
      "argv": [
        "/Library/Developer/CommandLineTools/usr/bin/python3",
        "-m",
        "ipykernel_launcher",
        "-f",
        "{connection_file}"
      ],
      "display_name": "Python 3 (ipykernel)",
      "language": "python",
      "metadata": {
        "debugger": true
      },
      "name": "python3"
    },
    "language_info": {
      "codemirror_mode": {
        "name": "ipython",
        "version": 3
      },
      "file_extension": ".py",
      "mimetype": "text/x-python",
      "name": "python",
      "nbconvert_exporter": "python",
      "pygments_lexer": "ipython3",
      "version": "3.8.2"
    },
    "nteract": {
      "version": "0.28.0"
    }
  },
  "nbformat": 4,
  "nbformat_minor": 0
}
