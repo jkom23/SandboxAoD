{
 "cells": [
  {
   "cell_type": "markdown",
   "metadata": {},
   "source": [
    "# Probability and Expected Value\n",
    "\n",
    "You might have already learned a lot about probability. Answer these questions, and look up any relevant information (or ask) as you go:"
   ]
  },
  {
   "cell_type": "markdown",
   "metadata": {},
   "source": [
    "1. You roll a fair six-sided die and a fair 20-sided die. What is the probability that:\n",
    "\n",
    "    a. The dice match each other\n",
    "    6/120\n",
    "\n",
    "    b. You roll at least one 6\n",
    "    1 - (5*19/120) = 35/120\n",
    "\n",
    "    c. You did not roll any multiples of 3\n",
    "    1 - (2*6)/120 = 9/10\n",
    "\n",
    "    d. The sum of the numbers rolled is even\n",
    "    even+even=even\n",
    "    odd+odd is even\n",
    "    odd +even is odd\n",
    "    even + odd is odd\n",
    "   P = 1/2\n",
    "\n"
   ]
  },
  {
   "cell_type": "markdown",
   "metadata": {},
   "source": [
    "2. If you roll the six-sided die 120 times, how many times do you expect to see the number 5? Write some python code to simulate this, and verify your answer.\n",
    "   I expect it to happen 20 times.\n",
    "   "
   ]
  },
  {
   "cell_type": "code",
   "execution_count": 14,
   "metadata": {},
   "outputs": [
    {
     "name": "stdout",
     "output_type": "stream",
     "text": [
      "19960\n"
     ]
    }
   ],
   "source": [
    "import random\n",
    "\n",
    "count=0\n",
    "for i in range(1,120000):\n",
    "    x = random.randint(1,6)\n",
    "    if x==5:\n",
    "        count+=1\n",
    "\n",
    "print(count)\n",
    "\n"
   ]
  },
  {
   "cell_type": "markdown",
   "metadata": {},
   "source": [
    "3. What happens if you roll the die 1,200 times? 12,000? 120,000?\n",
    "   I expect 200, 2000, and 20000"
   ]
  },
  {
   "cell_type": "markdown",
   "metadata": {},
   "source": [
    "4. Your friend wants to make a bet with you: You flip a fair coin. If it lands on heads, you get a cup of coffee, but if it lands on tails, you lose a cup of coffee. The coin is flipped 2000 times. How many cups of coffee do you expect to have at the end? \n",
    "\n",
    "0 coffees"
   ]
  },
  {
   "cell_type": "code",
   "execution_count": 37,
   "metadata": {},
   "outputs": [
    {
     "name": "stdout",
     "output_type": "stream",
     "text": [
      "-23\n"
     ]
    }
   ],
   "source": [
    "count=0\n",
    "for i in range(1,2000):\n",
    "    x = random.randint(1,2)\n",
    "    if x==1:\n",
    "        count+=1\n",
    "    if x==2:\n",
    "        count-=1\n",
    "\n",
    "print(count)"
   ]
  },
  {
   "cell_type": "code",
   "execution_count": 52,
   "metadata": {},
   "outputs": [
    {
     "ename": "KeyboardInterrupt",
     "evalue": "",
     "output_type": "error",
     "traceback": [
      "\u001b[1;31m---------------------------------------------------------------------------\u001b[0m",
      "\u001b[1;31mKeyboardInterrupt\u001b[0m                         Traceback (most recent call last)",
      "\u001b[1;32m~\\AppData\\Local\\Temp/ipykernel_21324/1294855795.py\u001b[0m in \u001b[0;36m<module>\u001b[1;34m\u001b[0m\n\u001b[0;32m      5\u001b[0m     \u001b[0msum\u001b[0m\u001b[1;33m=\u001b[0m\u001b[1;36m0\u001b[0m\u001b[1;33m\u001b[0m\u001b[1;33m\u001b[0m\u001b[0m\n\u001b[0;32m      6\u001b[0m     \u001b[1;32mwhile\u001b[0m \u001b[0msum\u001b[0m\u001b[1;33m<=\u001b[0m\u001b[1;36m1\u001b[0m\u001b[1;33m:\u001b[0m\u001b[1;33m\u001b[0m\u001b[1;33m\u001b[0m\u001b[0m\n\u001b[1;32m----> 7\u001b[1;33m         \u001b[0mx\u001b[0m \u001b[1;33m=\u001b[0m \u001b[0mrandom\u001b[0m\u001b[1;33m.\u001b[0m\u001b[0muniform\u001b[0m\u001b[1;33m(\u001b[0m\u001b[1;36m0\u001b[0m\u001b[1;33m,\u001b[0m\u001b[1;36m1\u001b[0m\u001b[1;33m)\u001b[0m\u001b[1;33m\u001b[0m\u001b[1;33m\u001b[0m\u001b[0m\n\u001b[0m\u001b[0;32m      8\u001b[0m         \u001b[0msum\u001b[0m\u001b[1;33m=\u001b[0m\u001b[0msum\u001b[0m\u001b[1;33m+\u001b[0m\u001b[0mx\u001b[0m\u001b[1;33m\u001b[0m\u001b[1;33m\u001b[0m\u001b[0m\n\u001b[0;32m      9\u001b[0m         \u001b[0mi\u001b[0m\u001b[1;33m+=\u001b[0m\u001b[1;36m1\u001b[0m\u001b[1;33m\u001b[0m\u001b[1;33m\u001b[0m\u001b[0m\n",
      "\u001b[1;31mKeyboardInterrupt\u001b[0m: "
     ]
    }
   ],
   "source": [
    "import random\n",
    "run=0\n",
    "for j in range(1,999999999999999999999999999999999999999999999999999999999999999999):\n",
    "    i=0\n",
    "    sum=0\n",
    "    while sum<=1:\n",
    "        x = random.uniform(0,1)\n",
    "        sum=sum+x\n",
    "        i+=1\n",
    "    run+=i\n",
    "print(run/999999999999999999999999999999999999999999999999999999999999999999)"
   ]
  },
  {
   "cell_type": "markdown",
   "metadata": {},
   "source": [
    "5. A researcher is conducting a study on the proportion of adults in the US who are in favor of mandatory covid vaccinations. The researcher comments that because of the law of large numbers, the sampling method doesn't matter as long as the sample size is large enough. Explain why this claim is incorrect.\n",
    "   differnt areas provide differnt results"
   ]
  },
  {
   "cell_type": "markdown",
   "metadata": {},
   "source": [
    "6. Your favorite coffee shop has a promotion where each customer who enters gets to spin a wheel. They have a 5% chance of winning one free coffee and 3% chance of winning two free coffees. The rest of the wheel is blank.\n",
    "\n",
    "    a. What is the probability of not winning at least one coffee?\n",
    "    92%\n",
    "\n",
    "    b. On average, how many coffees would a customer expect to win upon spinning the wheel? Why could this be useful information?\n",
    "    Expected value \n",
    "(0.05*1)+(0.03*2)\n",
    "0.11 coffees"
   ]
  },
  {
   "cell_type": "markdown",
   "metadata": {},
   "source": [
    "7. A player stumbles upon a rare chest in a video game and knows that a random amount of gold will be generated upon opening it. This is the probability distribution:\n",
    "\n",
    "|Probability|Gold|\n",
    "|--------|----|\n",
    "|1%       |1000|\n",
    "|10%      |500 |\n",
    "|50%      |100 |\n",
    "|39%      |80  |\n",
    "\n",
    "  What's the expected amount of gold this player will receive?\n",
    "  141.2 gold"
   ]
  },
  {
   "cell_type": "markdown",
   "metadata": {},
   "source": [
    "8. A basketball player is analyzing their own stats, and realizes that so far they've made 70% of their free throws. Let's analyze a situation where this player is given 2 free throws.\n",
    "\n",
    "    a. What is the random variable and sample space?\n",
    "\n",
    "    b. What is the probability distribution?\n",
    "\n",
    "    c. Out of the 2, how many shots will this player get in on average?"
   ]
  }
 ],
 "metadata": {
  "interpreter": {
   "hash": "e1978333b259e326c8be3f8a27813263e3e181bac4b8e15347013cfd3d2dc8af"
  },
  "kernelspec": {
   "display_name": "Python 3.10.1 64-bit",
   "language": "python",
   "name": "python3"
  },
  "language_info": {
   "codemirror_mode": {
    "name": "ipython",
    "version": 3
   },
   "file_extension": ".py",
   "mimetype": "text/x-python",
   "name": "python",
   "nbconvert_exporter": "python",
   "pygments_lexer": "ipython3",
   "version": "3.10.1"
  },
  "orig_nbformat": 4
 },
 "nbformat": 4,
 "nbformat_minor": 2
}
